{
  "nbformat": 4,
  "nbformat_minor": 0,
  "metadata": {
    "colab": {
      "provenance": [],
      "gpuType": "T4",
      "mount_file_id": "1DPwAqTCxGHpmpjtVEUrhu9IOio2gHUUR",
      "authorship_tag": "ABX9TyNDDvxfOQ3GwUykO+Dzq4FD",
      "include_colab_link": true
    },
    "kernelspec": {
      "name": "python3",
      "display_name": "Python 3"
    },
    "language_info": {
      "name": "python"
    },
    "accelerator": "GPU"
  },
  "cells": [
    {
      "cell_type": "markdown",
      "metadata": {
        "id": "view-in-github",
        "colab_type": "text"
      },
      "source": [
        "<a href=\"https://colab.research.google.com/github/sebastiantonn/phd/blob/main/chapter3/240125_S3_TRAIN_TEST.ipynb\" target=\"_parent\"><img src=\"https://colab.research.google.com/assets/colab-badge.svg\" alt=\"Open In Colab\"/></a>"
      ]
    },
    {
      "cell_type": "code",
      "execution_count": null,
      "metadata": {
        "id": "6Ii7qj8BYtsW"
      },
      "outputs": [],
      "source": [
        "# Import the necessary libraries\n",
        "import numpy as np\n",
        "import pandas as pd\n",
        "import random\n",
        "import tensorflow\n",
        "import tensorflow.keras as keras  # https://keras.io/api/\n",
        "from tensorflow.keras.preprocessing import image  # https://www.tensorflow.org/api_docs/python/tf/keras/preprocessing/image\n",
        "from tensorflow.keras.preprocessing.image import ImageDataGenerator #https://www.tensorflow.org/api_docs/python/tf/keras/preprocessing/image/ImageDataGenerator\n",
        "from tensorflow.keras.callbacks import ReduceLROnPlateau, ModelCheckpoint  # https://www.tensorflow.org/api_docs/python/tf/keras/callbacks/ReduceLROnPlateau\n",
        "                                                                           # https://www.tensorflow.org/api_docs/python/tf/keras/callbacks/ModelCheckpoint\n",
        "from tensorflow.keras.applications.vgg16 import preprocess_input\n",
        "import matplotlib.pyplot as plt  # https://matplotlib.org/stable/api/index\n",
        "import matplotlib.image as img   # not necessary unless you will manipulate individual images\n",
        "import shutil # for copying files\n",
        "import zipfile\n",
        "import os\n",
        "from PIL import Image\n",
        "import re"
      ]
    },
    {
      "cell_type": "code",
      "source": [
        "# Define parameters\n",
        "\n",
        "# Set number of tiles to use for training-validation\n",
        "tilenumber = 7500 #14449\n",
        "\n",
        "# Set file prefix to be used for saving all output\n",
        "prefix = \"240225-05\"\n",
        "\n",
        "# Define the seed value for random functions\n",
        "seedint = 64 #17 #42  #64\n",
        "\n",
        "# Define number of leaf discs used for training-validation\n",
        "train_val = 25"
      ],
      "metadata": {
        "id": "zNXdLmarFphs"
      },
      "execution_count": null,
      "outputs": []
    },
    {
      "cell_type": "code",
      "source": [
        "# Set the seed for all random functions.\n",
        "# Setting the seed value allows for increased (but not complete) reproducibility between training sessions,\n",
        "# so DO NOT CHANGE the seed_value if you want reproducible sessions.\n",
        "# The use of GPU during training prevents complete reproducibility.\n",
        "# https://www.kaggle.com/lbronchal/keras-gpu-cpu-reproducibility-test\n",
        "tensorflow.random.set_seed(seedint) # Define the seed value for tensorflow\n",
        "np.random.seed(seedint)  # Define the seed value for numpy\n",
        "random.seed(seedint) # Define the seed value for python's built-in 'random' module"
      ],
      "metadata": {
        "id": "IHH16-RhGgMq"
      },
      "execution_count": null,
      "outputs": []
    },
    {
      "cell_type": "code",
      "source": [
        "# Set directory for saving model, model weights and plots\n",
        "outputdirectory = prefix + '_trypan-blue_VGG16_adamax_AP60-checkpoints'\n",
        "\n",
        "if not os.path.isdir(os.path.join('/content/drive/MyDrive/PhD/TrypanBlue/', outputdirectory)):\n",
        "  os.mkdir(os.path.join('/content/drive/MyDrive/PhD/TrypanBlue/', outputdirectory))"
      ],
      "metadata": {
        "id": "YJdri6zILDa7"
      },
      "execution_count": null,
      "outputs": []
    },
    {
      "cell_type": "code",
      "source": [
        "# Point the zipfile.ZipFile module towards the zipped folder of interest and open it in read mode.\n",
        "# (https://docs.python.org/3/library/zipfile.html)\n",
        "zip_ref = zipfile.ZipFile(\"/content/drive/MyDrive/PhD/TrypanBlue/tiles_resorted_two-classes.zip\", 'r')\n",
        "\n",
        "# Extract the contents of the zipped folder to the 'content' folder of Colab.\n",
        "zip_ref.extractall(\"/content\")\n",
        "zip_ref.close()"
      ],
      "metadata": {
        "id": "9O1I1ak66QsC"
      },
      "execution_count": null,
      "outputs": []
    },
    {
      "cell_type": "code",
      "source": [
        "# Read in list of leafdisc files to include\n",
        "leafdisc_list_path = '/content/drive/MyDrive/PhD/TrypanBlue/240119_leafdisc_selection.xlsx'\n",
        "leafdisc_list = pd.read_excel(leafdisc_list_path)\n",
        "leafdisc_list = list(leafdisc_list['filename'])\n",
        "leafdisc_list = [x.split('.')[0] for x in leafdisc_list] # Split filename and only keep the filename before \".jpg\""
      ],
      "metadata": {
        "id": "bZtFevR3tVOQ"
      },
      "execution_count": null,
      "outputs": []
    },
    {
      "cell_type": "code",
      "source": [
        "# If necessary, delete directory that contains subset/selection of tiles (e.g. from previous runs)\n",
        "#shutil.rmtree('/content/train-val_ROI-tiles-selection')"
      ],
      "metadata": {
        "id": "twPeWtrF8wtK"
      },
      "execution_count": null,
      "outputs": []
    },
    {
      "cell_type": "code",
      "source": [
        "# Make selection of leaf discs (of 34) that should be used for training-validation (the rest will be used for testing)\n",
        "leafdiscs_train_val = random.sample(leafdisc_list, train_val)\n",
        "leafdiscs_test = [x for x in leafdisc_list if x not in leafdiscs_train_val]"
      ],
      "metadata": {
        "id": "iXjY-SRstn_n"
      },
      "execution_count": null,
      "outputs": []
    },
    {
      "cell_type": "code",
      "source": [
        "# Define directory that contains tiles to select from as 'tile_source'. This directory should contain subdirectories 'hyphae' and 'no hyphae'.\n",
        "tile_source = '/content/tiles_resorted_two-classes'\n",
        "hyphae_source = os.path.join(tile_source, 'hyphae')\n",
        "nohyphae_source = os.path.join(tile_source, 'no hyphae')\n",
        "\n",
        "# Define directory where to copy selected tiles for training-validation and create if they don't exist yet\n",
        "train_tile_dest = '/content/tiles_resorted_two-classes-train-val'\n",
        "train_hyphae_dest = os.path.join(train_tile_dest, 'hyphae')\n",
        "train_nohyphae_dest = os.path.join(train_tile_dest, 'no hyphae')\n",
        "\n",
        "# Define directory where to copy subset of selected tiles for training-validation and create if they don't exist yet\n",
        "sub_train_tile_dest = '/content/sub-tiles_resorted_two-classes-train-val'\n",
        "sub_train_hyphae_dest = os.path.join(sub_train_tile_dest, 'hyphae')\n",
        "sub_train_nohyphae_dest = os.path.join(sub_train_tile_dest, 'no hyphae')\n",
        "\n",
        "# Define directory where to copy selected tiles for testing and create if they don't exist yet\n",
        "test_tile_dest = '/content/tiles_resorted_two-classes-test'\n",
        "test_hyphae_dest = os.path.join(test_tile_dest, 'hyphae')\n",
        "test_nohyphae_dest = os.path.join(test_tile_dest, 'no hyphae')\n",
        "\n",
        "if not os.path.isdir(train_tile_dest):\n",
        "    os.mkdir(train_tile_dest)\n",
        "if not os.path.isdir(train_hyphae_dest):\n",
        "    os.mkdir(train_hyphae_dest)\n",
        "if not os.path.isdir(train_nohyphae_dest):\n",
        "    os.mkdir(train_nohyphae_dest)\n",
        "\n",
        "if not os.path.isdir(sub_train_tile_dest):\n",
        "    os.mkdir(sub_train_tile_dest)\n",
        "if not os.path.isdir(sub_train_hyphae_dest):\n",
        "    os.mkdir(sub_train_hyphae_dest)\n",
        "if not os.path.isdir(sub_train_nohyphae_dest):\n",
        "    os.mkdir(sub_train_nohyphae_dest)\n",
        "\n",
        "if not os.path.isdir(test_tile_dest):\n",
        "    os.mkdir(test_tile_dest)\n",
        "if not os.path.isdir(test_hyphae_dest):\n",
        "    os.mkdir(test_hyphae_dest)\n",
        "if not os.path.isdir(test_nohyphae_dest):\n",
        "    os.mkdir(test_nohyphae_dest)\n"
      ],
      "metadata": {
        "id": "K2K1yWM47Irt"
      },
      "execution_count": null,
      "outputs": []
    },
    {
      "cell_type": "code",
      "source": [
        "# Split tiles into trainin-validation and test set based on above leaf disc selection:\n",
        "# Loop through list of tile/patch filenames, check if they contain the leafdisc filename of our selected set, and copy to target directory\n",
        "hyphae_filenames = os.listdir(hyphae_source)\n",
        "\n",
        "for filename in hyphae_filenames:\n",
        "  for leafdisc_filename in leafdiscs_train_val:\n",
        "    if leafdisc_filename in filename:\n",
        "      sourcepath = os.path.join(hyphae_source, filename)\n",
        "      destpath = os.path.join(train_hyphae_dest, filename)\n",
        "      shutil.copyfile(sourcepath, destpath)\n",
        "\n",
        "for filename in hyphae_filenames:\n",
        "  for leafdisc_filename in leafdiscs_test:\n",
        "    if leafdisc_filename in filename:\n",
        "      sourcepath = os.path.join(hyphae_source, filename)\n",
        "      destpath = os.path.join(test_hyphae_dest, filename)\n",
        "      shutil.copyfile(sourcepath, destpath)\n",
        "\n",
        "\n",
        "nohyphae_filenames = os.listdir(nohyphae_source)\n",
        "\n",
        "for filename in nohyphae_filenames:\n",
        "  for leafdisc_filename in leafdiscs_train_val:\n",
        "    if leafdisc_filename in filename:\n",
        "      sourcepath = os.path.join(nohyphae_source, filename)\n",
        "      destpath = os.path.join(train_nohyphae_dest, filename)\n",
        "      shutil.copyfile(sourcepath, destpath)\n",
        "\n",
        "for filename in nohyphae_filenames:\n",
        "  for leafdisc_filename in leafdiscs_test:\n",
        "    if leafdisc_filename in filename:\n",
        "      sourcepath = os.path.join(nohyphae_source, filename)\n",
        "      destpath = os.path.join(test_nohyphae_dest, filename)\n",
        "      shutil.copyfile(sourcepath, destpath)\n",
        "\n"
      ],
      "metadata": {
        "id": "Azh_Og2u8Efk"
      },
      "execution_count": null,
      "outputs": []
    },
    {
      "cell_type": "code",
      "source": [
        "# Check number of tiles present per class 'hyphae' and 'no hyphae' in training-validation and test sets\n",
        "\n",
        "hyphae_training = len([name for name in os.listdir(train_hyphae_dest) if os.path.isfile(os.path.join(train_hyphae_dest, name))])\n",
        "print('Training hyphae tiles: ', hyphae_training)\n",
        "nohyphae_training = len([name for name in os.listdir(train_nohyphae_dest) if os.path.isfile(os.path.join(train_nohyphae_dest, name))])\n",
        "print('Training no-hyphae tiles: ', nohyphae_training)\n",
        "\n",
        "hyphae_testing = len([name for name in os.listdir(test_hyphae_dest) if os.path.isfile(os.path.join(test_hyphae_dest, name))])\n",
        "print('Testing hyphae tiles: ', hyphae_testing)\n",
        "nohyphae_testing = len([name for name in os.listdir(test_nohyphae_dest) if os.path.isfile(os.path.join(test_nohyphae_dest, name))])\n",
        "print('Testing no-hyphae tiles: ', nohyphae_testing)"
      ],
      "metadata": {
        "id": "O-cwvO8H71_3",
        "colab": {
          "base_uri": "https://localhost:8080/"
        },
        "outputId": "9b334f54-8058-4329-a9ea-4db788bf6969"
      },
      "execution_count": null,
      "outputs": [
        {
          "output_type": "stream",
          "name": "stdout",
          "text": [
            "Training hyphae tiles:  6906\n",
            "Training no-hyphae tiles:  7678\n",
            "Testing hyphae tiles:  1775\n",
            "Testing no-hyphae tiles:  3338\n"
          ]
        }
      ]
    },
    {
      "cell_type": "code",
      "source": [
        "# Check number of tiles to select from each class based on total tile number.\n",
        "# The idea here is to maintain the ratios of 'hyphae' and 'no hyphae' tiles of the whole data set (ca. 0.3 and 0.7)\n",
        "# in the training-validation set\n",
        "\n",
        "#hyphae_selection = round((hyphae_training/(hyphae_training+nohyphae_training)) * tilenumber) #0.44\n",
        "#nohyphae_selection = round((nohyphae_training/(hyphae_training+nohyphae_training)) * tilenumber) #0.56\n",
        "\n",
        "# old version before 22-02-2024\n",
        "hyphae_selection = round(0.44 * tilenumber)\n",
        "nohyphae_selection = round(0.56 * tilenumber)\n"
      ],
      "metadata": {
        "id": "znPzMm5qkWVK"
      },
      "execution_count": null,
      "outputs": []
    },
    {
      "cell_type": "code",
      "source": [
        "# Copy the determined number of tiles from the tile set selected for training to a new directory.\n",
        "# The selection is done at random.\n",
        "hyphae_filenames = random.sample(os.listdir(train_hyphae_dest), hyphae_selection)\n",
        "\n",
        "for filename in hyphae_filenames:\n",
        "  sourcepath = os.path.join(train_hyphae_dest, filename)\n",
        "  destpath = os.path.join(sub_train_hyphae_dest, filename)\n",
        "  shutil.copyfile(sourcepath, destpath)\n",
        "\n",
        "nohyphae_filenames = random.sample(os.listdir(train_nohyphae_dest), nohyphae_selection)\n",
        "\n",
        "for filename in nohyphae_filenames:\n",
        "  sourcepath = os.path.join(nohyphae_source, filename)\n",
        "  destpath = os.path.join(sub_train_nohyphae_dest, filename)\n",
        "  shutil.copyfile(sourcepath, destpath)\n",
        "\n"
      ],
      "metadata": {
        "id": "G1ljGkMj72sa"
      },
      "execution_count": null,
      "outputs": []
    },
    {
      "cell_type": "code",
      "source": [
        "hyphae_selected = len([name for name in os.listdir(sub_train_hyphae_dest) if os.path.isfile(os.path.join(sub_train_hyphae_dest, name))])\n",
        "print('Total number of selected hyphae tiles: ', hyphae_selected)\n",
        "\n",
        "nohyphae_selected = len([name for name in os.listdir(sub_train_nohyphae_dest) if os.path.isfile(os.path.join(sub_train_nohyphae_dest, name))])\n",
        "print('Total number of selected no-hyphae tiles: ', nohyphae_selected)"
      ],
      "metadata": {
        "id": "jvsrp1D08JYP",
        "colab": {
          "base_uri": "https://localhost:8080/"
        },
        "outputId": "d73644a9-fc91-4573-8b67-b1967bc20d5f"
      },
      "execution_count": null,
      "outputs": [
        {
          "output_type": "stream",
          "name": "stdout",
          "text": [
            "Total number of selected hyphae tiles:  3300\n",
            "Total number of selected no-hyphae tiles:  4200\n"
          ]
        }
      ]
    },
    {
      "cell_type": "code",
      "source": [
        "# Change working directory to the folder containing the tiles\n",
        "image_tile_directory = '/content/sub-tiles_resorted_two-classes-train-val'\n",
        "os.chdir(image_tile_directory)\n"
      ],
      "metadata": {
        "id": "oQQy8ugXY9_d"
      },
      "execution_count": null,
      "outputs": []
    },
    {
      "cell_type": "code",
      "source": [
        "\n",
        "# Create two functions:\n",
        "#     plot_history - used to visualize how the metrics values changed throughout the run.\n",
        "#                    Here, the metrics 'accuracy' and 'loss' will be plotted.\n",
        "#     generators - used to prepare the input data for training and validation\n",
        "#                  from the image directory files.\n",
        "\n",
        "# Create function to visualize how loss and accuracy changes throughout the run\n",
        "# for both the validation set and the training set.\n",
        "\n",
        "def plot_history(history, yrange = (0.0-1.0)):\n",
        "\n",
        "    # Note that 'history' is already a defined object in the Keras API.\n",
        "    # It stores the events of a run throughout the epochs.\n",
        "    # https://www.tensorflow.org/api_docs/python/tf/keras/callbacks/History\n",
        "\n",
        "    # 'yrange' refers only to the 'accuracy' plot and defaults to the range 0 to 1\n",
        "\n",
        "    # Call 'history' to get the values for each metric for each epoch\n",
        "    acc = history.history['acc']\n",
        "    validation_acc = history.history['val_acc']\n",
        "    loss = history.history['loss']\n",
        "    validation_loss = history.history['val_loss']\n",
        "\n",
        "    # Get the count of epochs\n",
        "    # This will be the horizontal axis of the two charts.\n",
        "    epochs = range(1, len(acc)+1)\n",
        "\n",
        "    # Create the plots by calling on the matplotlib library.\n",
        "    # One with both plots\n",
        "    fig1, (ax1, ax2) = plt.subplots(ncols = 2, layout=\"constrained\")\n",
        "    ax1.plot(epochs, acc, label = 'training')\n",
        "    ax1.plot(epochs, validation_acc, label = 'validation')\n",
        "    ax1.set_title('Training and validation accuracy')\n",
        "    ax1.set_ylim(yrange)\n",
        "    ax1.set(xlabel = 'Epoch', ylabel = 'Binary Accuracy')\n",
        "    ax1.legend(loc=\"lower right\")\n",
        "\n",
        "    ax2.plot(epochs, loss, label = 'training')\n",
        "    ax2.plot(epochs, validation_loss, label = 'validation')\n",
        "    ax2.set_title('Training and validation loss')\n",
        "    ax2.set_ylim(yrange)\n",
        "    ax2.set(xlabel = 'Epoch', ylabel = 'Loss')\n",
        "    ax2.legend(loc=\"upper right\")\n",
        "\n",
        "    ax1.set_box_aspect(1)\n",
        "    ax2.set_box_aspect(1)\n",
        "\n",
        "\n",
        "    fig1.savefig(os.path.join('/content/drive/MyDrive/PhD/TrypanBlue/', outputdirectory, 'train-val-acc-loss.svg'), dpi=300, pad_inches = 0, transparent = True)\n",
        "    plt.close(fig1)\n",
        "\n",
        "\n",
        "    # one for training and validation accuracy,\n",
        "    fig2, ax = plt.subplots()\n",
        "    ax.plot(epochs, acc, label = 'training')\n",
        "    ax.plot(epochs, validation_acc, label = 'validation')\n",
        "    ax.set_title('Training and validation accuracy')\n",
        "    ax.set_ylim(yrange)\n",
        "    ax.set(xlabel = 'Epoch', ylabel = 'Binary Accuracy')\n",
        "    ax.legend(loc=\"lower right\")\n",
        "    ax.set_box_aspect(1)\n",
        "    fig2.savefig(os.path.join('/content/drive/MyDrive/PhD/TrypanBlue/', outputdirectory, 'train-val-acc.svg'), dpi=300, pad_inches = 0, transparent = True)\n",
        "    plt.close(fig2)\n",
        "\n",
        "\n",
        "    # and another for training and validation loss.\n",
        "    fig3, ax = plt.subplots()\n",
        "    ax.plot(epochs, loss, label = 'training')\n",
        "    ax.plot(epochs, validation_loss, label = 'validation')\n",
        "    ax.set_title('Training and validation loss')\n",
        "    ax.set_ylim(yrange)\n",
        "    ax.set(xlabel = 'Epoch', ylabel = 'Loss')\n",
        "    ax.legend(loc=\"upper right\")\n",
        "    ax.set_box_aspect(1)\n",
        "    fig3.savefig(os.path.join('/content/drive/MyDrive/PhD/TrypanBlue/', outputdirectory, 'train-val-loss.svg'), dpi=300, pad_inches = 0, transparent = True)\n",
        "    plt.close(fig3)\n"
      ],
      "metadata": {
        "id": "erOR_KBbZZ1p"
      },
      "execution_count": null,
      "outputs": []
    },
    {
      "cell_type": "code",
      "source": [
        "# The function 'generators' will use the subdirectories for each class\n",
        "# and process each image in a way that is amenable to the base_model (VGG16).\n",
        "\n",
        "def generators(preprocessor, validation_split, batch_size, target_size, seed = seedint):\n",
        "\n",
        "    # preprocess = a callable function that is specific to each base_model (e.g. ResNet50, VGG16, etc).\n",
        "    #              https://www.tensorflow.org/api_docs/python/tf/keras/applications/resnet50/preprocess_input\n",
        "\n",
        "    # validation_split = a float representing the fraction of images from the image directory\n",
        "    #                    that will be used for validation steps. The remainder will be used for training steps.\n",
        "\n",
        "    # batch_size = integer representing the number of images per batch.\n",
        "    #              IMPORTANT: To change batch sizes, you need to define it when you call the generators function.\n",
        "    #                             Changing it elsewhere (e.g. model.fit() will not work)\n",
        "\n",
        "    # target_size = height and width (in pixels) to which the input images will be rescaled.\n",
        "    #               The preprocessing function will do this automatically but it is set here\n",
        "    #               in order to make the target size explicit.\n",
        "\n",
        "    # Create variable 'datagen' to contain the chosen parameters of ImageDataGenerator,\n",
        "    #     which will perform the preprocessing steps (including data augmentation steps).\n",
        "    #     https://www.tensorflow.org/api_docs/python/tf/keras/preprocessing/image/ImageDataGenerator\n",
        "\n",
        "    # Info on how different augmentation arguments work: https://gac6.medium.com/visualizing-data-augmentations-from-keras-image-data-generator-44f040aa4c9f\n",
        "    # and https://towardsdatascience.com/exploring-image-data-augmentation-with-keras-and-tensorflow-a8162d89b844\n",
        "    # and https://www.studytonight.com/post/random-brightness-image-augmentation-keras-imagedatagenerator\n",
        "    # Try also Albumentation library for image augmentation https://albumentations.ai/\n",
        "    datagen = ImageDataGenerator(\n",
        "        preprocessing_function = preprocessor,\n",
        "        #horizontal_flip = True, # flips random input images horizontally\n",
        "        #vertical_flip = True, # flips random input images vertically\n",
        "        #rotation_range = 50, # rotates the input image a random amount of degrees up to this integer\n",
        "        #shear_range = 30, #0.1, # similiar to bluring the image\n",
        "        #zoom_range = [1.0, 1.5], # NEW\n",
        "        #channel_shift_range = 20, #50, # NEW\n",
        "        #brightness_range=(0.8, 1.2), #NEW\n",
        "        #fill_mode = \"wrap\", # NEW\n",
        "        validation_split = validation_split, # proportion of total image count to use as the validation set\n",
        "        #fill_mode = 'nearest' # The method of inferring how pixels should be added in the event that a preprocessing step requires it.\n",
        "    )\n",
        "\n",
        "    # Generate the training dataset by calling imgdatagen and the flow_from_directory() method.\n",
        "    # The 'classes' parameter is a list containing strings that must match the subdirectory folder names.\n",
        "    train_dataset = datagen.flow_from_directory(\n",
        "        directory = os.getcwd(),\n",
        "        target_size = target_size,\n",
        "        batch_size = batch_size,\n",
        "        classes = ['no hyphae', 'hyphae'], # A list containing strings that match the subdirectory folder names.\n",
        "                                           # order of the list determines the numeric value of the class.\n",
        "                                           # In this case, 'no hyphae' = 0, and 'hyphae' = 1.\n",
        "        class_mode = \"binary\", # indicates how the data labels should be treated\n",
        "        color_mode = \"rgb\",\n",
        "        shuffle = True,\n",
        "        subset = \"training\", #indicates that this is the dataset which will be used for training steps.\n",
        "        interpolation = \"nearest\", # method for resizing\n",
        "        seed = seed\n",
        "    )\n",
        "\n",
        "    #repeat 'imgdatagen' on the validation set.\n",
        "    valid_dataset = datagen.flow_from_directory(\n",
        "        directory = os.getcwd(),\n",
        "        target_size = target_size,\n",
        "        batch_size = batch_size,\n",
        "        classes = ['no hyphae', 'hyphae'],\n",
        "        class_mode = \"binary\",\n",
        "        color_mode = \"rgb\",\n",
        "        shuffle = True,\n",
        "        subset = \"validation\", #indicates that this is the dataset which will be used for validation steps.\n",
        "        interpolation = \"nearest\",\n",
        "        seed = seed\n",
        "    )\n",
        "    return train_dataset, valid_dataset #return the two preprocessed datasets that will be used as inputs when model.fit() is called.\n"
      ],
      "metadata": {
        "id": "VxGWHLr5ZdfS"
      },
      "execution_count": null,
      "outputs": []
    },
    {
      "cell_type": "code",
      "source": [
        "# Setting up the model\n",
        "# https://keras.io/api/models/model/#model-class\n",
        "\n",
        "# Set up the base_model and generate the training and validation datasets\n",
        "\n",
        "# Define object 'vgg16' as the call for the base_model VGG16\n",
        "# https://keras.io/api/applications/vgg/#vgg16-function\n",
        "\n",
        "vgg16 = keras.applications.vgg16"
      ],
      "metadata": {
        "id": "zMc9WVRiZhtO"
      },
      "execution_count": null,
      "outputs": []
    },
    {
      "cell_type": "code",
      "source": [
        "# Call the 'generators' function to create our training and validation datasets\n",
        "# Note that 'preprocess = vgg16.preprocess_input' is how we call the preprocessing steps\n",
        "#     that are required for our specific base_model, which is VGG16.\n",
        "\n",
        "train_dataset, valid_dataset = generators(preprocessor = vgg16.preprocess_input,\n",
        "                                          validation_split = 0.25,\n",
        "                                          batch_size = 128,\n",
        "                                          target_size = (224, 224),\n",
        "                                          seed = seedint)"
      ],
      "metadata": {
        "id": "TFpL3GMTZnC_",
        "colab": {
          "base_uri": "https://localhost:8080/"
        },
        "outputId": "0f15bfe0-6572-4a02-dca1-a49650d642dd"
      },
      "execution_count": null,
      "outputs": [
        {
          "output_type": "stream",
          "name": "stdout",
          "text": [
            "Found 5625 images belonging to 2 classes.\n",
            "Found 1875 images belonging to 2 classes.\n"
          ]
        }
      ]
    },
    {
      "cell_type": "code",
      "source": [
        "# Define the base_model architecture as ResNet50.\n",
        "base_model = vgg16.VGG16(weights = \"imagenet\",  # Load the ImageNet weights onto the architecture\n",
        "                               include_top = False, # Do not include the fully connected top layer.\n",
        "                               input_shape = (224, 224,3))"
      ],
      "metadata": {
        "id": "j143Pz45Z59I",
        "colab": {
          "base_uri": "https://localhost:8080/"
        },
        "outputId": "74324771-5419-4995-d75f-da222469807c"
      },
      "execution_count": null,
      "outputs": [
        {
          "output_type": "stream",
          "name": "stdout",
          "text": [
            "Downloading data from https://storage.googleapis.com/tensorflow/keras-applications/vgg16/vgg16_weights_tf_dim_ordering_tf_kernels_notop.h5\n",
            "58889256/58889256 [==============================] - 5s 0us/step\n"
          ]
        }
      ]
    },
    {
      "cell_type": "code",
      "source": [
        "# Unfreeze all layers of the base_model.\n",
        "\n",
        "for layer in base_model.layers:\n",
        "    layer.trainable = True\n",
        "\n",
        "# Note that this is an unusual thing to do at this point.\n",
        "# Typically, the top layers are trained first with the base_layers frozen\n",
        "# and then all layers, including the base_model layers, are then unfrozen\n",
        "# and the whole model is trained on the dataset again at a very low learning rate.\n",
        "# Here, however, the base_model layers and the top classifying layers are all trained together.\n",
        "\n",
        "# Alternatively, one could unfreeze only certain layers, e.g. only keep the first (more general) layers frozen\n",
        "# For example for freezing the first four convolution blocks\n",
        "# (2-3 is block 1, 4-6 is block 2, 7-10 is block 3, 11-14 is block 4, 15-18 is block 5)\n",
        "#for layer in base_model.layers[:15]:\n",
        "#    layer.trainable = False\n",
        "# Make sure you have frozen the correct layers\n",
        "#for i, layer in enumerate(base_model.layers):\n",
        "#    print(i, layer.name, layer.trainable)"
      ],
      "metadata": {
        "id": "2aTsS4eIZ9Gq"
      },
      "execution_count": null,
      "outputs": []
    },
    {
      "cell_type": "code",
      "source": [
        "# Now, the top layers of the 'full_model' will be defined and added atop the VGG16 'base_model'\n",
        "\n",
        "x = keras.layers.Flatten()(base_model.output) # The base_model will output a 4D tensor. This layer flattens it to 2D\n",
        "                                              # https://keras.io/api/layers/reshaping_layers/flatten/"
      ],
      "metadata": {
        "id": "XvzwQVU0aC_F"
      },
      "execution_count": null,
      "outputs": []
    },
    {
      "cell_type": "code",
      "source": [
        "# Now that the base_model output data is in a 2D shape,\n",
        "# it is fed through three sets of a Dense - Dropout - BatchNormalization motif.\n",
        "\n",
        "# The Dense layers\n",
        "#      https://keras.io/api/layers/core_layers/dense/\n",
        "# The Dropout and BatchNormalization layers are there to prevent overfitting.\n",
        "#     https://keras.io/api/layers/regularization_layers/dropout/\n",
        "#     https://keras.io/api/layers/normalization_layers/batch_normalization/\n",
        "\n",
        "x = keras.layers.Dense(128, activation = 'relu')(x) # https://keras.io/api/layers/core_layers/dense/\n",
        "                                                    # https://keras.io/api/layers/activations/#relu-function\n",
        "x = keras.layers.Dropout(0.4, seed = seedint)(x)  # https://keras.io/api/layers/regularization_layers/dropout/\n",
        "x = keras.layers.BatchNormalization()(x)  # https://keras.io/api/layers/normalization_layers/batch_normalization/\n",
        "\n",
        "x = keras.layers.Dense(64, activation = 'relu')(x)\n",
        "x = keras.layers.Dropout(0.4, seed = seedint)(x)\n",
        "x = keras.layers.BatchNormalization()(x)\n",
        "\n",
        "x = keras.layers.Dense(32, activation = 'relu')(x)\n",
        "x = keras.layers.Dropout(0.2, seed = seedint)(x)\n",
        "x = keras.layers.BatchNormalization()(x)\n",
        "\n",
        "#Finally, the data is passed to a Dense layer with 1 dimension of output and a sigmoid activation\n",
        "#This is the layer responsible for outputing a binary prediction of an input image's class.\n",
        "x = keras.layers.Dense(1)(x)  # https://www.tensorflow.org/api_docs/python/tf/keras/activations/sigmoid\n",
        "predictions = keras.layers.Activation('sigmoid') (x)"
      ],
      "metadata": {
        "id": "SWo998UiaGFd"
      },
      "execution_count": null,
      "outputs": []
    },
    {
      "cell_type": "code",
      "source": [
        "# Call models.Model() to make the base_model and the custom top layers a cohesive architecture\n",
        "# with 'predictions' as the output.\n",
        "# Define that architecture as 'full_model'\n",
        "full_model = keras.models.Model(inputs = base_model.input, outputs = predictions)"
      ],
      "metadata": {
        "id": "LCnviWtQaNFq"
      },
      "execution_count": null,
      "outputs": []
    },
    {
      "cell_type": "code",
      "source": [
        "#Display every layer of the 'full_model' architecture.\n",
        "full_model.summary()\n",
        "\n",
        "train_dataset.class_indices\n",
        "valid_dataset.class_indices"
      ],
      "metadata": {
        "id": "fqlafTLGaRfn",
        "colab": {
          "base_uri": "https://localhost:8080/"
        },
        "outputId": "56876f6d-3cfe-48f6-adae-404eb107ddeb"
      },
      "execution_count": null,
      "outputs": [
        {
          "output_type": "stream",
          "name": "stdout",
          "text": [
            "Model: \"model\"\n",
            "_________________________________________________________________\n",
            " Layer (type)                Output Shape              Param #   \n",
            "=================================================================\n",
            " input_1 (InputLayer)        [(None, 224, 224, 3)]     0         \n",
            "                                                                 \n",
            " block1_conv1 (Conv2D)       (None, 224, 224, 64)      1792      \n",
            "                                                                 \n",
            " block1_conv2 (Conv2D)       (None, 224, 224, 64)      36928     \n",
            "                                                                 \n",
            " block1_pool (MaxPooling2D)  (None, 112, 112, 64)      0         \n",
            "                                                                 \n",
            " block2_conv1 (Conv2D)       (None, 112, 112, 128)     73856     \n",
            "                                                                 \n",
            " block2_conv2 (Conv2D)       (None, 112, 112, 128)     147584    \n",
            "                                                                 \n",
            " block2_pool (MaxPooling2D)  (None, 56, 56, 128)       0         \n",
            "                                                                 \n",
            " block3_conv1 (Conv2D)       (None, 56, 56, 256)       295168    \n",
            "                                                                 \n",
            " block3_conv2 (Conv2D)       (None, 56, 56, 256)       590080    \n",
            "                                                                 \n",
            " block3_conv3 (Conv2D)       (None, 56, 56, 256)       590080    \n",
            "                                                                 \n",
            " block3_pool (MaxPooling2D)  (None, 28, 28, 256)       0         \n",
            "                                                                 \n",
            " block4_conv1 (Conv2D)       (None, 28, 28, 512)       1180160   \n",
            "                                                                 \n",
            " block4_conv2 (Conv2D)       (None, 28, 28, 512)       2359808   \n",
            "                                                                 \n",
            " block4_conv3 (Conv2D)       (None, 28, 28, 512)       2359808   \n",
            "                                                                 \n",
            " block4_pool (MaxPooling2D)  (None, 14, 14, 512)       0         \n",
            "                                                                 \n",
            " block5_conv1 (Conv2D)       (None, 14, 14, 512)       2359808   \n",
            "                                                                 \n",
            " block5_conv2 (Conv2D)       (None, 14, 14, 512)       2359808   \n",
            "                                                                 \n",
            " block5_conv3 (Conv2D)       (None, 14, 14, 512)       2359808   \n",
            "                                                                 \n",
            " block5_pool (MaxPooling2D)  (None, 7, 7, 512)         0         \n",
            "                                                                 \n",
            " flatten (Flatten)           (None, 25088)             0         \n",
            "                                                                 \n",
            " dense (Dense)               (None, 128)               3211392   \n",
            "                                                                 \n",
            " dropout (Dropout)           (None, 128)               0         \n",
            "                                                                 \n",
            " batch_normalization (Batch  (None, 128)               512       \n",
            " Normalization)                                                  \n",
            "                                                                 \n",
            " dense_1 (Dense)             (None, 64)                8256      \n",
            "                                                                 \n",
            " dropout_1 (Dropout)         (None, 64)                0         \n",
            "                                                                 \n",
            " batch_normalization_1 (Bat  (None, 64)                256       \n",
            " chNormalization)                                                \n",
            "                                                                 \n",
            " dense_2 (Dense)             (None, 32)                2080      \n",
            "                                                                 \n",
            " dropout_2 (Dropout)         (None, 32)                0         \n",
            "                                                                 \n",
            " batch_normalization_2 (Bat  (None, 32)                128       \n",
            " chNormalization)                                                \n",
            "                                                                 \n",
            " dense_3 (Dense)             (None, 1)                 33        \n",
            "                                                                 \n",
            " activation (Activation)     (None, 1)                 0         \n",
            "                                                                 \n",
            "=================================================================\n",
            "Total params: 17937345 (68.43 MB)\n",
            "Trainable params: 17936897 (68.42 MB)\n",
            "Non-trainable params: 448 (1.75 KB)\n",
            "_________________________________________________________________\n"
          ]
        },
        {
          "output_type": "execute_result",
          "data": {
            "text/plain": [
              "{'no hyphae': 0, 'hyphae': 1}"
            ]
          },
          "metadata": {},
          "execution_count": 25
        }
      ]
    },
    {
      "cell_type": "code",
      "source": [
        "# Setting up callbacks\n",
        "# https://keras.io/api/callbacks/\n",
        "\n",
        "# Set a learning rate callback to reduce the learning rate\n",
        "# if the 'val_loss' value plateaus for more than 3 epochs\n",
        "# https://keras.io/api/callbacks/reduce_lr_on_plateau/\n",
        "\n",
        "reduce_lr = keras.callbacks.ReduceLROnPlateau(monitor='val_loss', # The callback is activated based on the 'val_loss' metric.\n",
        "                                              factor=0.2, #0.2, # Factor by which to multiply the old learning rate to get the new one.\n",
        "                                              patience=5, # The learning rate is reduced if the 'val_loss' does not decrease for 5 epochs.\n",
        "                                              min_lr=0.0000001, # Minimum bound that the learning rate can reach.\n",
        "                                              verbose = 1)\n",
        "\n",
        "# Set a checkpoint callback that will save the best weights for the model\n",
        "# even if the best results happen after an epoch that is not the last one.\n",
        "# https://www.tensorflow.org/api_docs/python/tf/keras/callbacks/ModelCheckpoint\n",
        "\n",
        "checkpoint_filepath = os.path.join('/content/drive/MyDrive/PhD/TrypanBlue/', outputdirectory, 'weights_{epoch:02d}-{val_loss:0.2f}.hdf5') #path for the saved weights.\n",
        "checkpoint_save = keras.callbacks.ModelCheckpoint(\n",
        "    filepath=checkpoint_filepath,\n",
        "    save_weights_only=True, # Only save the weights; not the whole model\n",
        "    monitor='val_loss', # The weights of the epoch that produces the best 'val_loss' will be saved.\n",
        "    mode='min', # define the best 'val_loss' as the lowest 'val_loss'\n",
        "    save_best_only=True,\n",
        "    verbose = 1)"
      ],
      "metadata": {
        "id": "0Xxke7aEaVQp"
      },
      "execution_count": null,
      "outputs": []
    },
    {
      "cell_type": "code",
      "source": [
        "#take the 'full' model and train it for 'hyphae' vs 'no hyphae'\n",
        "full_model.compile(loss = 'binary_crossentropy', optimizer = keras.optimizers.Adamax(learning_rate = 0.0001), metrics = ['acc'])\n",
        "\n",
        "history = full_model.fit(\n",
        "    train_dataset,\n",
        "    validation_data = valid_dataset,\n",
        "    workers = 10,\n",
        "    epochs = 20,\n",
        "    callbacks = [reduce_lr, checkpoint_save],\n",
        "    class_weight = {1:1.13, 0:0.89} # This is a very important parameter - it is meant to balance out imbalanced data.\n",
        "                                      # ex: weight_1 = (1/number of classes) * total number of samples / number of samples in that class\n",
        "                                      # If we have 19697 images, and 8681 of those are infected then the weight would be:\n",
        "                                      # (1/2) * 19697 / 8681 = 1.13\n",
        ")"
      ],
      "metadata": {
        "id": "y-Tlydhaagr_",
        "colab": {
          "base_uri": "https://localhost:8080/"
        },
        "outputId": "3e292bf1-9754-4004-dbfc-4f04f575354a"
      },
      "execution_count": null,
      "outputs": [
        {
          "output_type": "stream",
          "name": "stdout",
          "text": [
            "Epoch 1/20\n",
            "44/44 [==============================] - ETA: 0s - loss: 0.5099 - acc: 0.7596\n",
            "Epoch 1: val_loss improved from inf to 0.25984, saving model to /content/drive/MyDrive/PhD/TrypanBlue/240225-05_trypan-blue_VGG16_adamax_AP60-checkpoints/weights_01-0.26.hdf5\n",
            "44/44 [==============================] - 260s 4s/step - loss: 0.5099 - acc: 0.7596 - val_loss: 0.2598 - val_acc: 0.9061 - lr: 1.0000e-04\n",
            "Epoch 2/20\n",
            "44/44 [==============================] - ETA: 0s - loss: 0.3491 - acc: 0.8635\n",
            "Epoch 2: val_loss improved from 0.25984 to 0.21095, saving model to /content/drive/MyDrive/PhD/TrypanBlue/240225-05_trypan-blue_VGG16_adamax_AP60-checkpoints/weights_02-0.21.hdf5\n",
            "44/44 [==============================] - 112s 3s/step - loss: 0.3491 - acc: 0.8635 - val_loss: 0.2110 - val_acc: 0.9301 - lr: 1.0000e-04\n",
            "Epoch 3/20\n",
            "44/44 [==============================] - ETA: 0s - loss: 0.3020 - acc: 0.8965\n",
            "Epoch 3: val_loss improved from 0.21095 to 0.18757, saving model to /content/drive/MyDrive/PhD/TrypanBlue/240225-05_trypan-blue_VGG16_adamax_AP60-checkpoints/weights_03-0.19.hdf5\n",
            "44/44 [==============================] - 102s 2s/step - loss: 0.3020 - acc: 0.8965 - val_loss: 0.1876 - val_acc: 0.9413 - lr: 1.0000e-04\n",
            "Epoch 4/20\n",
            "44/44 [==============================] - ETA: 0s - loss: 0.2640 - acc: 0.9148\n",
            "Epoch 4: val_loss improved from 0.18757 to 0.17387, saving model to /content/drive/MyDrive/PhD/TrypanBlue/240225-05_trypan-blue_VGG16_adamax_AP60-checkpoints/weights_04-0.17.hdf5\n",
            "44/44 [==============================] - 103s 2s/step - loss: 0.2640 - acc: 0.9148 - val_loss: 0.1739 - val_acc: 0.9360 - lr: 1.0000e-04\n",
            "Epoch 5/20\n",
            "44/44 [==============================] - ETA: 0s - loss: 0.2422 - acc: 0.9211\n",
            "Epoch 5: val_loss did not improve from 0.17387\n",
            "44/44 [==============================] - 103s 2s/step - loss: 0.2422 - acc: 0.9211 - val_loss: 0.1798 - val_acc: 0.9376 - lr: 1.0000e-04\n",
            "Epoch 6/20\n",
            "44/44 [==============================] - ETA: 0s - loss: 0.2233 - acc: 0.9321\n",
            "Epoch 6: val_loss did not improve from 0.17387\n",
            "44/44 [==============================] - 103s 2s/step - loss: 0.2233 - acc: 0.9321 - val_loss: 0.1886 - val_acc: 0.9328 - lr: 1.0000e-04\n",
            "Epoch 7/20\n",
            "44/44 [==============================] - ETA: 0s - loss: 0.2028 - acc: 0.9420\n",
            "Epoch 7: val_loss did not improve from 0.17387\n",
            "44/44 [==============================] - 103s 2s/step - loss: 0.2028 - acc: 0.9420 - val_loss: 0.1802 - val_acc: 0.9371 - lr: 1.0000e-04\n",
            "Epoch 8/20\n",
            "44/44 [==============================] - ETA: 0s - loss: 0.1935 - acc: 0.9422\n",
            "Epoch 8: val_loss did not improve from 0.17387\n",
            "44/44 [==============================] - 102s 2s/step - loss: 0.1935 - acc: 0.9422 - val_loss: 0.2118 - val_acc: 0.9248 - lr: 1.0000e-04\n",
            "Epoch 9/20\n",
            "44/44 [==============================] - ETA: 0s - loss: 0.1880 - acc: 0.9438\n",
            "Epoch 9: ReduceLROnPlateau reducing learning rate to 1.9999999494757503e-05.\n",
            "\n",
            "Epoch 9: val_loss did not improve from 0.17387\n",
            "44/44 [==============================] - 102s 2s/step - loss: 0.1880 - acc: 0.9438 - val_loss: 0.2148 - val_acc: 0.9253 - lr: 1.0000e-04\n",
            "Epoch 10/20\n",
            "44/44 [==============================] - ETA: 0s - loss: 0.1748 - acc: 0.9509\n",
            "Epoch 10: val_loss did not improve from 0.17387\n",
            "44/44 [==============================] - 102s 2s/step - loss: 0.1748 - acc: 0.9509 - val_loss: 0.1867 - val_acc: 0.9355 - lr: 2.0000e-05\n",
            "Epoch 11/20\n",
            "44/44 [==============================] - ETA: 0s - loss: 0.1767 - acc: 0.9513\n",
            "Epoch 11: val_loss did not improve from 0.17387\n",
            "44/44 [==============================] - 102s 2s/step - loss: 0.1767 - acc: 0.9513 - val_loss: 0.1830 - val_acc: 0.9387 - lr: 2.0000e-05\n",
            "Epoch 12/20\n",
            "44/44 [==============================] - ETA: 0s - loss: 0.1709 - acc: 0.9520\n",
            "Epoch 12: val_loss improved from 0.17387 to 0.16661, saving model to /content/drive/MyDrive/PhD/TrypanBlue/240225-05_trypan-blue_VGG16_adamax_AP60-checkpoints/weights_12-0.17.hdf5\n",
            "44/44 [==============================] - 103s 2s/step - loss: 0.1709 - acc: 0.9520 - val_loss: 0.1666 - val_acc: 0.9424 - lr: 2.0000e-05\n",
            "Epoch 13/20\n",
            "44/44 [==============================] - ETA: 0s - loss: 0.1707 - acc: 0.9552\n",
            "Epoch 13: val_loss improved from 0.16661 to 0.16226, saving model to /content/drive/MyDrive/PhD/TrypanBlue/240225-05_trypan-blue_VGG16_adamax_AP60-checkpoints/weights_13-0.16.hdf5\n",
            "44/44 [==============================] - 103s 2s/step - loss: 0.1707 - acc: 0.9552 - val_loss: 0.1623 - val_acc: 0.9467 - lr: 2.0000e-05\n",
            "Epoch 14/20\n",
            "44/44 [==============================] - ETA: 0s - loss: 0.1667 - acc: 0.9541\n",
            "Epoch 14: val_loss did not improve from 0.16226\n",
            "44/44 [==============================] - 102s 2s/step - loss: 0.1667 - acc: 0.9541 - val_loss: 0.1676 - val_acc: 0.9440 - lr: 2.0000e-05\n",
            "Epoch 15/20\n",
            "44/44 [==============================] - ETA: 0s - loss: 0.1667 - acc: 0.9538\n",
            "Epoch 15: val_loss did not improve from 0.16226\n",
            "44/44 [==============================] - 102s 2s/step - loss: 0.1667 - acc: 0.9538 - val_loss: 0.1807 - val_acc: 0.9419 - lr: 2.0000e-05\n",
            "Epoch 16/20\n",
            "44/44 [==============================] - ETA: 0s - loss: 0.1599 - acc: 0.9564\n",
            "Epoch 16: val_loss did not improve from 0.16226\n",
            "44/44 [==============================] - 103s 2s/step - loss: 0.1599 - acc: 0.9564 - val_loss: 0.1691 - val_acc: 0.9445 - lr: 2.0000e-05\n",
            "Epoch 17/20\n",
            "44/44 [==============================] - ETA: 0s - loss: 0.1577 - acc: 0.9582\n",
            "Epoch 17: val_loss improved from 0.16226 to 0.15564, saving model to /content/drive/MyDrive/PhD/TrypanBlue/240225-05_trypan-blue_VGG16_adamax_AP60-checkpoints/weights_17-0.16.hdf5\n",
            "44/44 [==============================] - 103s 2s/step - loss: 0.1577 - acc: 0.9582 - val_loss: 0.1556 - val_acc: 0.9493 - lr: 2.0000e-05\n",
            "Epoch 18/20\n",
            "44/44 [==============================] - ETA: 0s - loss: 0.1552 - acc: 0.9586\n",
            "Epoch 18: val_loss improved from 0.15564 to 0.15389, saving model to /content/drive/MyDrive/PhD/TrypanBlue/240225-05_trypan-blue_VGG16_adamax_AP60-checkpoints/weights_18-0.15.hdf5\n",
            "44/44 [==============================] - 102s 2s/step - loss: 0.1552 - acc: 0.9586 - val_loss: 0.1539 - val_acc: 0.9499 - lr: 2.0000e-05\n",
            "Epoch 19/20\n",
            "44/44 [==============================] - ETA: 0s - loss: 0.1571 - acc: 0.9561\n",
            "Epoch 19: val_loss did not improve from 0.15389\n",
            "44/44 [==============================] - 111s 2s/step - loss: 0.1571 - acc: 0.9561 - val_loss: 0.1562 - val_acc: 0.9488 - lr: 2.0000e-05\n",
            "Epoch 20/20\n",
            "44/44 [==============================] - ETA: 0s - loss: 0.1525 - acc: 0.9573\n",
            "Epoch 20: val_loss improved from 0.15389 to 0.14211, saving model to /content/drive/MyDrive/PhD/TrypanBlue/240225-05_trypan-blue_VGG16_adamax_AP60-checkpoints/weights_20-0.14.hdf5\n",
            "44/44 [==============================] - 103s 2s/step - loss: 0.1525 - acc: 0.9573 - val_loss: 0.1421 - val_acc: 0.9520 - lr: 2.0000e-05\n"
          ]
        }
      ]
    },
    {
      "cell_type": "code",
      "source": [
        "# Call the 'plot_history' function that was defined before\n",
        "plot_history(history, yrange=(0,1))"
      ],
      "metadata": {
        "id": "w-weLrkKImWq"
      },
      "execution_count": null,
      "outputs": []
    },
    {
      "cell_type": "code",
      "source": [
        "# Create plot of model architecture\n",
        "# tensorflow.keras.utils.plot_model(\n",
        "#     full_model,\n",
        "#     to_file=\"/content/drive/MyDrive/PhD/TrypanBlue/trypan-blue_VGG16_adamax_AP60-checkpoints/model_architecture.pdf\",\n",
        "#     show_shapes=True,\n",
        "#     show_dtype=False,\n",
        "#     show_layer_names=True,\n",
        "#     rankdir=\"TB\",\n",
        "#     expand_nested=False,\n",
        "#     dpi=300,\n",
        "#     layer_range=None,\n",
        "#     show_layer_activations=False,\n",
        "#     show_trainable=False,\n",
        "# )"
      ],
      "metadata": {
        "id": "kkn89JSNYRoY"
      },
      "execution_count": null,
      "outputs": []
    },
    {
      "cell_type": "code",
      "source": [
        "# Clear session if repeating training\n",
        "#keras.backend.clear_session()"
      ],
      "metadata": {
        "id": "RLnVPjmBq0PN"
      },
      "execution_count": null,
      "outputs": []
    },
    {
      "cell_type": "code",
      "source": [
        "# In addition to the weights that are saved by the 'checkpoint_save' callback,\n",
        "# save the weights from the last epoch.\n",
        "# https://keras.io/api/models/model_saving_apis/\n",
        "full_model.save_weights(os.path.join('/content/drive/MyDrive/PhD/TrypanBlue/', outputdirectory, 'TrypanBlueModel_weights_lastepoch.h5'))\n"
      ],
      "metadata": {
        "id": "Oldy8rEa6PHn"
      },
      "execution_count": null,
      "outputs": []
    },
    {
      "cell_type": "code",
      "source": [
        "# Save full model\n",
        "full_model.save(os.path.join('/content/drive/MyDrive/PhD/TrypanBlue/', outputdirectory, 'TrypanBlueModel.keras'))"
      ],
      "metadata": {
        "id": "JsTpbdtKS2p-"
      },
      "execution_count": null,
      "outputs": []
    },
    {
      "cell_type": "code",
      "source": [
        "# Load full trained model\n",
        "#full_model = keras.models.load_model(os.path.join('/content/drive/MyDrive/PhD/TrypanBlue/', outputdirectory, 'TrypanBlueModel.keras'))\n",
        "#full_model = keras.models.load_model('/content/drive/MyDrive/PhD/TrypanBlue/230815-01_trypan-blue_VGG16_adamax_AP60-checkpoints/TrypanBlueModel.keras')"
      ],
      "metadata": {
        "id": "08dJCna8JAfB"
      },
      "execution_count": null,
      "outputs": []
    },
    {
      "cell_type": "code",
      "source": [
        "#########\n",
        "#########\n",
        "#########\n",
        "#########\n",
        "#########"
      ],
      "metadata": {
        "id": "LB9Fmj_pPZsy"
      },
      "execution_count": null,
      "outputs": []
    },
    {
      "cell_type": "code",
      "source": [
        "# Optionally load different weights\n",
        "weights = 'weights_20-0.14.hdf5'\n",
        "full_model.load_weights(os.path.join('/content/drive/MyDrive/PhD/TrypanBlue/', outputdirectory, weights))"
      ],
      "metadata": {
        "id": "ahhNtCcbZN5Q"
      },
      "execution_count": null,
      "outputs": []
    },
    {
      "cell_type": "code",
      "source": [
        "# Freeze all layers since we do not want to retrain the model but just evaluate it.\n",
        "for layer in full_model.layers:\n",
        "  layer.trainable = False"
      ],
      "metadata": {
        "id": "tlp00Z72JnC4"
      },
      "execution_count": null,
      "outputs": []
    },
    {
      "cell_type": "code",
      "source": [
        "#Change the working directory to the folder that contains testing images.\n",
        "testing_tile_directory = '/content/tiles_resorted_two-classes-test'\n",
        "os.chdir(testing_tile_directory)"
      ],
      "metadata": {
        "id": "g9ejmDJtUKX2"
      },
      "execution_count": null,
      "outputs": []
    },
    {
      "cell_type": "code",
      "source": [
        "# Import a few additional metrics methods from Keras.\n",
        "# These will provide further information about the quality of the trained model.\n",
        "\n",
        "from keras.metrics import Precision, Recall, TruePositives, TrueNegatives, FalsePositives, FalseNegatives, BinaryAccuracy\n",
        "#Note: When the model was being trained, BinaryAccuracy was automatically inferred by Keras when we called 'acc'.\n",
        "\n",
        "# Similiar to the 'generators' function defined before,\n",
        "# define function 'test_generator' to pre-process the input data.\n",
        "# the difference here being that there is no data augmentation steps\n",
        "# and no validation split.\n",
        "def test_generator(preprocess, validation_split=None, batch_size = 128, target_size = (224, 224)):\n",
        "\n",
        "    imgdatagen = ImageDataGenerator(\n",
        "        preprocessing_function = preprocess,\n",
        "    )\n",
        "\n",
        "    test_dataset = imgdatagen.flow_from_directory(\n",
        "        os.getcwd(),\n",
        "        #Ensure that the order of classes listed here is identical to the order\n",
        "        # that they were listed in the 'generators' function.\n",
        "        classes = ['no hyphae', 'hyphae'],\n",
        "        target_size = target_size,\n",
        "        batch_size = batch_size,\n",
        "        class_mode = \"binary\",\n",
        "        shuffle = False\n",
        "\n",
        "    )\n",
        "    return test_dataset"
      ],
      "metadata": {
        "id": "TseulEbSUQNX"
      },
      "execution_count": null,
      "outputs": []
    },
    {
      "cell_type": "code",
      "source": [
        "# Call the 'test_generator' function to create the testing data\n",
        "test_dataset = test_generator(preprocess = vgg16.preprocess_input,\n",
        "                                          validation_split = None,\n",
        "                                          batch_size = 128,\n",
        "                                          target_size = (224, 224)\n",
        "                                          )\n",
        "\n",
        "# Ensure that the numeric assignment of classes is identical to what it was during training\n",
        "test_dataset.class_indices\n"
      ],
      "metadata": {
        "id": "Amtd0ga2UXBG",
        "colab": {
          "base_uri": "https://localhost:8080/"
        },
        "outputId": "98bf4e11-bf02-4c84-bfd9-c17d3ce38bec"
      },
      "execution_count": null,
      "outputs": [
        {
          "output_type": "stream",
          "name": "stdout",
          "text": [
            "Found 5113 images belonging to 2 classes.\n"
          ]
        },
        {
          "output_type": "execute_result",
          "data": {
            "text/plain": [
              "{'no hyphae': 0, 'hyphae': 1}"
            ]
          },
          "metadata": {},
          "execution_count": 39
        }
      ]
    },
    {
      "cell_type": "code",
      "source": [
        "# Compile the model for testing\n",
        "\n",
        "# This time, it will be compiled with all layers frozen,\n",
        "# so even though we call an optimizer, that optimizer is not used during testing.\n",
        "# Another difference here is that we include more metrics.\n",
        "\n",
        "full_model.compile(loss = 'binary_crossentropy', optimizer = keras.optimizers.Adamax(learning_rate = 0.001),\n",
        "                   metrics = [keras.metrics.Precision(),keras.metrics.Recall(),keras.metrics.TruePositives(),\n",
        "                              keras.metrics.TrueNegatives(),keras.metrics.FalsePositives(),keras.metrics.FalseNegatives(),\n",
        "                              keras.metrics.BinaryAccuracy(threshold = 0.5)])\n"
      ],
      "metadata": {
        "id": "bwoLSMp8UdGv"
      },
      "execution_count": null,
      "outputs": []
    },
    {
      "cell_type": "code",
      "source": [
        "# Evaluate the trained model on a set of images that the model has not seen during training.\n",
        "full_model.evaluate(test_dataset)"
      ],
      "metadata": {
        "id": "fapBzMAwUm3K",
        "colab": {
          "base_uri": "https://localhost:8080/"
        },
        "outputId": "741b8830-3dd4-4cee-f218-5fa03380fe31"
      },
      "execution_count": null,
      "outputs": [
        {
          "output_type": "stream",
          "name": "stdout",
          "text": [
            "40/40 [==============================] - 46s 1s/step - loss: 0.1632 - precision: 0.9561 - recall: 0.8704 - true_positives: 1545.0000 - true_negatives: 3267.0000 - false_positives: 71.0000 - false_negatives: 230.0000 - binary_accuracy: 0.9411\n"
          ]
        },
        {
          "output_type": "execute_result",
          "data": {
            "text/plain": [
              "[0.16320854425430298,\n",
              " 0.9560643434524536,\n",
              " 0.8704225420951843,\n",
              " 1545.0,\n",
              " 3267.0,\n",
              " 71.0,\n",
              " 230.0,\n",
              " 0.9411304593086243]"
            ]
          },
          "metadata": {},
          "execution_count": 41
        }
      ]
    },
    {
      "cell_type": "code",
      "source": [
        "# Generate confusion matrix\n",
        "ytest = test_dataset.classes\n",
        "yhat = np.argmax((full_model.predict(test_dataset) > 0.5).astype(np.int32), axis=1)\n",
        "\n",
        "from sklearn.metrics import confusion_matrix\n",
        "\n",
        "m = confusion_matrix(ytest,yhat)\n",
        "print(m)"
      ],
      "metadata": {
        "colab": {
          "base_uri": "https://localhost:8080/"
        },
        "id": "WhK0bX96G7Nl",
        "outputId": "50d68776-12e0-4e17-97e6-d4ec6107db96"
      },
      "execution_count": null,
      "outputs": [
        {
          "output_type": "stream",
          "name": "stdout",
          "text": [
            "40/40 [==============================] - 23s 568ms/step\n",
            "[[3338    0]\n",
            " [1775    0]]\n"
          ]
        }
      ]
    },
    {
      "cell_type": "code",
      "source": [
        "# Examine images that were classified incorrectly and plot examples of false positive and false negative images\n",
        "\n",
        "# Get predictions (as probabilities)\n",
        "predictions = full_model.predict(test_dataset)\n",
        "\n",
        "# Convert probabilities to class labels (e.g., using a threshold of 0.5)\n",
        "predicted_labels = (predictions > 0.5).astype(np.int32)\n",
        "predicted_labels = predicted_labels.reshape((len(predicted_labels),))"
      ],
      "metadata": {
        "colab": {
          "base_uri": "https://localhost:8080/"
        },
        "id": "Z8lIr5yB5E5M",
        "outputId": "3ec80166-6d10-4472-9398-9c1dc9f3e8e5"
      },
      "execution_count": null,
      "outputs": [
        {
          "output_type": "stream",
          "name": "stdout",
          "text": [
            "40/40 [==============================] - 24s 598ms/step\n"
          ]
        }
      ]
    },
    {
      "cell_type": "code",
      "source": [
        "# Find indices of false positives and false negatives\n",
        "false_positive_idx = np.where((predicted_labels == 1) & (test_dataset.labels == 0))[0]\n",
        "false_negative_idx = np.where((predicted_labels == 0) & (test_dataset.labels == 1))[0]"
      ],
      "metadata": {
        "id": "CCTnKY2U59nk"
      },
      "execution_count": null,
      "outputs": []
    },
    {
      "cell_type": "code",
      "source": [
        "# Get filenames of false positive and false negative classified images\n",
        "filenames = np.asarray(test_dataset.filenames)\n",
        "filenames_false_pos = np.array([filenames[i] for i in false_positive_idx])\n",
        "filenames_false_neg = np.array([filenames[i] for i in false_negative_idx])"
      ],
      "metadata": {
        "id": "vRfS8yxRXLvp"
      },
      "execution_count": null,
      "outputs": []
    },
    {
      "cell_type": "code",
      "source": [
        "# Randomly select 9 images\n",
        "selected_images = np.random.choice(filenames_false_neg, size=18)\n",
        "\n",
        "# Create a 3x3 grid of subplots\n",
        "fig, axes = plt.subplots(3, 6, figsize=(12, 6))\n",
        "\n",
        "# Plot each image on a subplot\n",
        "for i, ax in enumerate(axes.flat):\n",
        "    # Simulate loading the image (replace with your actual image loading code)\n",
        "    #image = np.random.rand(224, 224, 3)  # Replace with actual image dimensions\n",
        "    image = Image.open(selected_images[i])\n",
        "    ax.imshow(image)\n",
        "    ax.set_xticks([])\n",
        "    ax.set_yticks([])\n",
        "    #ax.set_title(selected_images[i], fontsize = 7)\n",
        "\n",
        "# Tight layout and display the plot\n",
        "plt.tight_layout()\n",
        "#plt.show()\n",
        "\n",
        "fig.savefig(os.path.join('/content/drive/MyDrive/PhD/TrypanBlue/', outputdirectory, 'false_negatives.svg'), dpi=300, pad_inches = 0, transparent = True)\n",
        "plt.close(fig)"
      ],
      "metadata": {
        "id": "lNWn-xJ1clHT"
      },
      "execution_count": null,
      "outputs": []
    },
    {
      "cell_type": "code",
      "source": [
        "# Randomly select 9 images\n",
        "selected_images = np.random.choice(filenames_false_pos, size=18)\n",
        "\n",
        "# Create a 3x3 grid of subplots\n",
        "fig, axes = plt.subplots(3, 6, figsize=(12, 6))\n",
        "\n",
        "# Plot each image on a subplot\n",
        "for i, ax in enumerate(axes.flat):\n",
        "    # Simulate loading the image (replace with your actual image loading code)\n",
        "    #image = np.random.rand(224, 224, 3)  # Replace with actual image dimensions\n",
        "    image = Image.open(selected_images[i])\n",
        "    ax.imshow(image)\n",
        "    ax.set_xticks([])\n",
        "    ax.set_yticks([])\n",
        "    #ax.set_title(selected_images[i], fontsize = 7)\n",
        "\n",
        "# Tight layout and display the plot\n",
        "plt.tight_layout()\n",
        "#plt.show()\n",
        "\n",
        "fig.savefig(os.path.join('/content/drive/MyDrive/PhD/TrypanBlue/', outputdirectory, 'false_positives.svg'), dpi=300, pad_inches = 0, transparent = True)\n",
        "plt.close(fig)"
      ],
      "metadata": {
        "id": "V9jg_eEceimE"
      },
      "execution_count": null,
      "outputs": []
    },
    {
      "cell_type": "code",
      "source": [
        "# Function for inverting the VGG16 preprocessing performed by keras.applications.vgg16.preprocess_input\n",
        "# Code from here: https://stackoverflow.com/questions/55987302/reversing-the-image-preprocessing-of-vgg-in-keras-to-return-original-image\n",
        "# def deprocess_img(processed_img):\n",
        "#   x = processed_img.copy()\n",
        "#   if len(x.shape) == 4:\n",
        "#     x = np.squeeze(x, 0)\n",
        "#   assert len(x.shape) == 3, (\"Input to deprocess image must be an image of \"\n",
        "#                              \"dimension [1, height, width, channel] or [height, width, channel]\")\n",
        "#   if len(x.shape) != 3:\n",
        "#     raise ValueError(\"Invalid input to deprocessing image\")\n",
        "\n",
        "#   # perform the inverse of the preprocessiing step\n",
        "#   x[:, :, 0] += 103.939\n",
        "#   x[:, :, 1] += 116.779\n",
        "#   x[:, :, 2] += 123.68\n",
        "#   x = x[:, :, ::-1]\n",
        "\n",
        "#   x = np.clip(x, 0, 255).astype('uint8')\n",
        "#   return x"
      ],
      "metadata": {
        "id": "AKHo_5c1PmH-"
      },
      "execution_count": null,
      "outputs": []
    },
    {
      "cell_type": "code",
      "source": [
        "# Display image from image generater 'test_data_set'.\n",
        "# First dimension refers to batch number, second dimension to image (0) or label (1), third dimension to index within batch\n",
        "#plt.imshow(deprocess_img(test_dataset[2][0][5]))"
      ],
      "metadata": {
        "id": "1tsSh-cKKpfp"
      },
      "execution_count": null,
      "outputs": []
    },
    {
      "cell_type": "code",
      "source": [
        "### Try out different methods for generating attention and/or saliency maps (not sure what the difference is actually)"
      ],
      "metadata": {
        "id": "yoizbm3yadt0"
      },
      "execution_count": null,
      "outputs": []
    },
    {
      "cell_type": "code",
      "source": [
        "# Try out tf-keras-vis for generating attention and/or saliency maps (not sure what the difference is actually)\n",
        "# (https://github.com/keisen/tf-keras-vis?tab=readme-ov-file)\n",
        "!pip install tf-keras-vis tensorflow\n",
        "from tf_keras_vis.utils.scores import CategoricalScore\n",
        "from tensorflow.keras import backend as K\n",
        "from tf_keras_vis.saliency import Saliency\n",
        "from tf_keras_vis.gradcam import Gradcam\n",
        "from tf_keras_vis.gradcam_plus_plus import GradcamPlusPlus\n",
        "from tf_keras_vis.scorecam import Scorecam\n",
        "import cv2 as cv2"
      ],
      "metadata": {
        "id": "9vZlsBXNb07I",
        "colab": {
          "base_uri": "https://localhost:8080/"
        },
        "outputId": "521a85f3-af7f-4bfb-94e6-2f5483f342b1"
      },
      "execution_count": null,
      "outputs": [
        {
          "output_type": "stream",
          "name": "stdout",
          "text": [
            "Collecting tf-keras-vis\n",
            "  Downloading tf_keras_vis-0.8.6-py3-none-any.whl (52 kB)\n",
            "\u001b[?25l     \u001b[90m━━━━━━━━━━━━━━━━━━━━━━━━━━━━━━━━━━━━━━━━\u001b[0m \u001b[32m0.0/52.1 kB\u001b[0m \u001b[31m?\u001b[0m eta \u001b[36m-:--:--\u001b[0m\r\u001b[2K     \u001b[90m━━━━━━━━━━━━━━━━━━━━━━━━━━━━━━━━━━━━━━━━\u001b[0m \u001b[32m52.1/52.1 kB\u001b[0m \u001b[31m2.0 MB/s\u001b[0m eta \u001b[36m0:00:00\u001b[0m\n",
            "\u001b[?25hRequirement already satisfied: tensorflow in /usr/local/lib/python3.10/dist-packages (2.15.0)\n",
            "Requirement already satisfied: scipy in /usr/local/lib/python3.10/dist-packages (from tf-keras-vis) (1.11.4)\n",
            "Requirement already satisfied: pillow in /usr/local/lib/python3.10/dist-packages (from tf-keras-vis) (9.4.0)\n",
            "Collecting deprecated (from tf-keras-vis)\n",
            "  Downloading Deprecated-1.2.14-py2.py3-none-any.whl (9.6 kB)\n",
            "Requirement already satisfied: imageio in /usr/local/lib/python3.10/dist-packages (from tf-keras-vis) (2.31.6)\n",
            "Requirement already satisfied: packaging in /usr/local/lib/python3.10/dist-packages (from tf-keras-vis) (23.2)\n",
            "Requirement already satisfied: absl-py>=1.0.0 in /usr/local/lib/python3.10/dist-packages (from tensorflow) (1.4.0)\n",
            "Requirement already satisfied: astunparse>=1.6.0 in /usr/local/lib/python3.10/dist-packages (from tensorflow) (1.6.3)\n",
            "Requirement already satisfied: flatbuffers>=23.5.26 in /usr/local/lib/python3.10/dist-packages (from tensorflow) (23.5.26)\n",
            "Requirement already satisfied: gast!=0.5.0,!=0.5.1,!=0.5.2,>=0.2.1 in /usr/local/lib/python3.10/dist-packages (from tensorflow) (0.5.4)\n",
            "Requirement already satisfied: google-pasta>=0.1.1 in /usr/local/lib/python3.10/dist-packages (from tensorflow) (0.2.0)\n",
            "Requirement already satisfied: h5py>=2.9.0 in /usr/local/lib/python3.10/dist-packages (from tensorflow) (3.9.0)\n",
            "Requirement already satisfied: libclang>=13.0.0 in /usr/local/lib/python3.10/dist-packages (from tensorflow) (16.0.6)\n",
            "Requirement already satisfied: ml-dtypes~=0.2.0 in /usr/local/lib/python3.10/dist-packages (from tensorflow) (0.2.0)\n",
            "Requirement already satisfied: numpy<2.0.0,>=1.23.5 in /usr/local/lib/python3.10/dist-packages (from tensorflow) (1.25.2)\n",
            "Requirement already satisfied: opt-einsum>=2.3.2 in /usr/local/lib/python3.10/dist-packages (from tensorflow) (3.3.0)\n",
            "Requirement already satisfied: protobuf!=4.21.0,!=4.21.1,!=4.21.2,!=4.21.3,!=4.21.4,!=4.21.5,<5.0.0dev,>=3.20.3 in /usr/local/lib/python3.10/dist-packages (from tensorflow) (3.20.3)\n",
            "Requirement already satisfied: setuptools in /usr/local/lib/python3.10/dist-packages (from tensorflow) (67.7.2)\n",
            "Requirement already satisfied: six>=1.12.0 in /usr/local/lib/python3.10/dist-packages (from tensorflow) (1.16.0)\n",
            "Requirement already satisfied: termcolor>=1.1.0 in /usr/local/lib/python3.10/dist-packages (from tensorflow) (2.4.0)\n",
            "Requirement already satisfied: typing-extensions>=3.6.6 in /usr/local/lib/python3.10/dist-packages (from tensorflow) (4.9.0)\n",
            "Requirement already satisfied: wrapt<1.15,>=1.11.0 in /usr/local/lib/python3.10/dist-packages (from tensorflow) (1.14.1)\n",
            "Requirement already satisfied: tensorflow-io-gcs-filesystem>=0.23.1 in /usr/local/lib/python3.10/dist-packages (from tensorflow) (0.36.0)\n",
            "Requirement already satisfied: grpcio<2.0,>=1.24.3 in /usr/local/lib/python3.10/dist-packages (from tensorflow) (1.60.1)\n",
            "Requirement already satisfied: tensorboard<2.16,>=2.15 in /usr/local/lib/python3.10/dist-packages (from tensorflow) (2.15.2)\n",
            "Requirement already satisfied: tensorflow-estimator<2.16,>=2.15.0 in /usr/local/lib/python3.10/dist-packages (from tensorflow) (2.15.0)\n",
            "Requirement already satisfied: keras<2.16,>=2.15.0 in /usr/local/lib/python3.10/dist-packages (from tensorflow) (2.15.0)\n",
            "Requirement already satisfied: wheel<1.0,>=0.23.0 in /usr/local/lib/python3.10/dist-packages (from astunparse>=1.6.0->tensorflow) (0.42.0)\n",
            "Requirement already satisfied: google-auth<3,>=1.6.3 in /usr/local/lib/python3.10/dist-packages (from tensorboard<2.16,>=2.15->tensorflow) (2.27.0)\n",
            "Requirement already satisfied: google-auth-oauthlib<2,>=0.5 in /usr/local/lib/python3.10/dist-packages (from tensorboard<2.16,>=2.15->tensorflow) (1.2.0)\n",
            "Requirement already satisfied: markdown>=2.6.8 in /usr/local/lib/python3.10/dist-packages (from tensorboard<2.16,>=2.15->tensorflow) (3.5.2)\n",
            "Requirement already satisfied: requests<3,>=2.21.0 in /usr/local/lib/python3.10/dist-packages (from tensorboard<2.16,>=2.15->tensorflow) (2.31.0)\n",
            "Requirement already satisfied: tensorboard-data-server<0.8.0,>=0.7.0 in /usr/local/lib/python3.10/dist-packages (from tensorboard<2.16,>=2.15->tensorflow) (0.7.2)\n",
            "Requirement already satisfied: werkzeug>=1.0.1 in /usr/local/lib/python3.10/dist-packages (from tensorboard<2.16,>=2.15->tensorflow) (3.0.1)\n",
            "Requirement already satisfied: cachetools<6.0,>=2.0.0 in /usr/local/lib/python3.10/dist-packages (from google-auth<3,>=1.6.3->tensorboard<2.16,>=2.15->tensorflow) (5.3.2)\n",
            "Requirement already satisfied: pyasn1-modules>=0.2.1 in /usr/local/lib/python3.10/dist-packages (from google-auth<3,>=1.6.3->tensorboard<2.16,>=2.15->tensorflow) (0.3.0)\n",
            "Requirement already satisfied: rsa<5,>=3.1.4 in /usr/local/lib/python3.10/dist-packages (from google-auth<3,>=1.6.3->tensorboard<2.16,>=2.15->tensorflow) (4.9)\n",
            "Requirement already satisfied: requests-oauthlib>=0.7.0 in /usr/local/lib/python3.10/dist-packages (from google-auth-oauthlib<2,>=0.5->tensorboard<2.16,>=2.15->tensorflow) (1.3.1)\n",
            "Requirement already satisfied: charset-normalizer<4,>=2 in /usr/local/lib/python3.10/dist-packages (from requests<3,>=2.21.0->tensorboard<2.16,>=2.15->tensorflow) (3.3.2)\n",
            "Requirement already satisfied: idna<4,>=2.5 in /usr/local/lib/python3.10/dist-packages (from requests<3,>=2.21.0->tensorboard<2.16,>=2.15->tensorflow) (3.6)\n",
            "Requirement already satisfied: urllib3<3,>=1.21.1 in /usr/local/lib/python3.10/dist-packages (from requests<3,>=2.21.0->tensorboard<2.16,>=2.15->tensorflow) (2.0.7)\n",
            "Requirement already satisfied: certifi>=2017.4.17 in /usr/local/lib/python3.10/dist-packages (from requests<3,>=2.21.0->tensorboard<2.16,>=2.15->tensorflow) (2024.2.2)\n",
            "Requirement already satisfied: MarkupSafe>=2.1.1 in /usr/local/lib/python3.10/dist-packages (from werkzeug>=1.0.1->tensorboard<2.16,>=2.15->tensorflow) (2.1.5)\n",
            "Requirement already satisfied: pyasn1<0.6.0,>=0.4.6 in /usr/local/lib/python3.10/dist-packages (from pyasn1-modules>=0.2.1->google-auth<3,>=1.6.3->tensorboard<2.16,>=2.15->tensorflow) (0.5.1)\n",
            "Requirement already satisfied: oauthlib>=3.0.0 in /usr/local/lib/python3.10/dist-packages (from requests-oauthlib>=0.7.0->google-auth-oauthlib<2,>=0.5->tensorboard<2.16,>=2.15->tensorflow) (3.2.2)\n",
            "Installing collected packages: deprecated, tf-keras-vis\n",
            "Successfully installed deprecated-1.2.14 tf-keras-vis-0.8.6\n"
          ]
        }
      ]
    },
    {
      "cell_type": "code",
      "source": [
        "# Initialize linear model by removing the sigmoid activation layer (last layer)\n",
        "model = keras.models.Model(inputs=full_model.input, outputs=full_model.layers[-2].output) #https://stackoverflow.com/questions/63107141/how-to-compute-saliency-map-using-keras-backend"
      ],
      "metadata": {
        "id": "Dxapyxc1b-vU"
      },
      "execution_count": null,
      "outputs": []
    },
    {
      "cell_type": "code",
      "source": [
        "# Define category score for class to calculate saliency maps for\n",
        "# In our case, binary classification, it is just 0 since we only have one class (hyphae)\n",
        "score = CategoricalScore([0])\n",
        "\n",
        "# Define path to images to test\n",
        "path = '/content/tiles_resorted_two-classes-test/hyphae'"
      ],
      "metadata": {
        "id": "BeeawCMWb-hr"
      },
      "execution_count": null,
      "outputs": []
    },
    {
      "cell_type": "code",
      "source": [
        "# Load random image, e.g. from test images\n",
        "img_file = random.sample(os.listdir(path), 1)[0]\n",
        "img_path = os.path.join(path, img_file)\n",
        "raw_img = Image.open(img_path)\n",
        "# Resize image and convert to array\n",
        "img = raw_img.resize((224, 224))\n",
        "img = np.array(img)\n",
        "# Apply vgg16 preprocess function\n",
        "img = vgg16.preprocess_input(img)\n",
        "\n",
        "\n",
        "# Calculate different maps\n",
        "\n",
        "# 1 Vanilla saliency\n",
        "# Create Saliency object.\n",
        "saliency = Saliency(model,\n",
        "                    clone=True)\n",
        "\n",
        "# Generate vanilla saliency map\n",
        "saliency_map = saliency(score, img)\n",
        "\n",
        "# 2 SmoothGrad\n",
        "# Generate SmoothGrad saliency map with smoothing that reduce noise by adding noise\n",
        "saliency_map1 = saliency(score,\n",
        "                        img,\n",
        "                        smooth_samples=40, # The number of calculating gradients iterations.\n",
        "                        smooth_noise=0.10) # noise spread level.\n",
        "\n",
        "# 3 GradCAM\n",
        "# Create Gradcam object\n",
        "gradcam = Gradcam(model,\n",
        "                  clone=True)\n",
        "\n",
        "# Generate heatmap with GradCAM\n",
        "cam1 = gradcam(score,\n",
        "               img,\n",
        "               penultimate_layer=-1)\n",
        "\n",
        "# 4 GradCAM ++\n",
        "# Create GradCAM++ object\n",
        "gradcamplus = GradcamPlusPlus(model,\n",
        "                          clone=True)\n",
        "\n",
        "# Generate heatmap with GradCAM++\n",
        "cam2 = gradcamplus(score,\n",
        "              img,\n",
        "              penultimate_layer=-1)\n",
        "\n",
        "# # 5 ScoreCAM (for now disabled because it is quite slow and does not seem to be much better than the other options)\n",
        "# Create ScoreCAM object\n",
        "scorecam = Scorecam(model)\n",
        "\n",
        "# Generate heatmap with ScoreCAM\n",
        "cam3 = scorecam(score, img, penultimate_layer=-1, max_N=10)\n",
        "\n"
      ],
      "metadata": {
        "id": "gzjuTebicsnp",
        "colab": {
          "base_uri": "https://localhost:8080/"
        },
        "outputId": "7ffd01d2-5734-429a-9cc9-efe1e6ae7fb0"
      },
      "execution_count": null,
      "outputs": [
        {
          "output_type": "stream",
          "name": "stdout",
          "text": [
            "1/1 [==============================] - 3s 3s/step\n"
          ]
        }
      ]
    },
    {
      "cell_type": "code",
      "source": [
        "# Render\n",
        "fig, (ax1, ax2, ax3, ax4, ax5, ax6) = plt.subplots(1, 6)\n",
        "ax1.imshow(raw_img)\n",
        "ax1.axis('off')\n",
        "\n",
        "ax2.imshow(saliency_map[0,:,:], cmap = \"rainbow\")\n",
        "ax2.axis('off')\n",
        "\n",
        "ax3.imshow(saliency_map1[0,:,:], cmap = \"rainbow\")\n",
        "ax3.axis('off')\n",
        "\n",
        "ax4.imshow(cam1[0,:,:], cmap = \"rainbow\")\n",
        "ax4.axis('off')\n",
        "\n",
        "ax5.imshow(cam2[0,:,:], cmap = \"rainbow\")\n",
        "ax5.axis('off')\n",
        "\n",
        "ax6.imshow(cam3[0,:,:], cmap = \"rainbow\")\n",
        "ax6.axis('off')\n",
        "\n",
        "ax1.set_title('Image', size = 8)\n",
        "ax2.set_title('Vanilla saliency', size = 8)\n",
        "ax3.set_title('SmoothGrad', size = 8)\n",
        "ax4.set_title('GradCAM', size = 8)\n",
        "ax5.set_title('GradCAM++', size = 8)\n",
        "ax6.set_title('ScoreCAM', size = 8)\n",
        "\n",
        "plt.savefig(os.path.join('/content/drive/MyDrive/PhD/TrypanBlue/', outputdirectory, re.sub('.jpg', '_saliencies.svg', img_file)), dpi=300, pad_inches = 0, transparent = True)"
      ],
      "metadata": {
        "id": "g6JBnwLIEXqu",
        "colab": {
          "base_uri": "https://localhost:8080/",
          "height": 124
        },
        "outputId": "e647baea-c7da-4e43-f522-dee94ec37c79"
      },
      "execution_count": null,
      "outputs": [
        {
          "output_type": "display_data",
          "data": {
            "text/plain": [
              "<Figure size 640x480 with 6 Axes>"
            ],
            "image/png": "[encoded data removed]"
          },
          "metadata": {}
        }
      ]
    },
    {
      "cell_type": "code",
      "source": [
        "sal_img = saliency_map1[0,:,:]\n",
        "sal_img = sal_img * 255\n",
        "sal_img = sal_img.astype(np.uint8)\n",
        "# sal_img.shape\n",
        "# sal_img_thresh = np.copy(sal_img)\n",
        "# sal_img_thresh[sal_img_thresh < 30] = 0\n",
        "# plt.imshow(sal_img_thresh, cmap = 'viridis')\n",
        "# plt.colorbar()\n",
        "\n",
        "img_blur = cv2.GaussianBlur(sal_img, (3,3), cv2.BORDER_DEFAULT)\n",
        "ret,img1 = cv2.threshold(img_blur,0,255, cv2.THRESH_OTSU)\n",
        "#ret,img1 = cv2.threshold(img_blur, 35, 255, cv2.THRESH_BINARY)\n",
        "#ret,img1 = cv2.threshold(img,0,255, cv2.THRESH_OTSU)\n",
        "img2 = cv2.dilate(img1, (5,5), iterations = 10)\n",
        "#img2 = cv2.erode(img1, (5,5), iterations = 20)\n",
        "\n",
        "# Skeletonization from (https://opencvpython.blogspot.com/2012/05/skeletonization-using-opencv-python.html)\n",
        "\n",
        "img = img2\n",
        "size = np.size(img)\n",
        "skel = np.zeros(img.shape,np.uint8)\n",
        "\n",
        "element = cv2.getStructuringElement(cv2.MORPH_CROSS,(3,3))\n",
        "done = False\n",
        "\n",
        "while(not done):\n",
        "    eroded = cv2.erode(img,element)\n",
        "    temp = cv2.dilate(eroded,element)\n",
        "    temp = cv2.subtract(img,temp)\n",
        "    skel = cv2.bitwise_or(skel,temp)\n",
        "    img = eroded.copy()\n",
        "\n",
        "    zeros = size - cv2.countNonZero(img)\n",
        "    if zeros==size:\n",
        "        done = True\n",
        "\n",
        "fig, (ax1, ax2, ax3, ax4, ax5, ax6) = plt.subplots(1, 6)\n",
        "ax1.imshow(raw_img)\n",
        "ax1.axis('off')\n",
        "\n",
        "ax2.imshow(sal_img)\n",
        "ax2.axis('off')\n",
        "\n",
        "ax3.imshow(img_blur)\n",
        "ax3.axis('off')\n",
        "\n",
        "ax4.imshow(img1)\n",
        "ax4.axis('off')\n",
        "\n",
        "ax5.imshow(img2)\n",
        "ax5.axis('off')\n",
        "\n",
        "ax6.imshow(skel)\n",
        "ax6.axis('off')\n",
        "\n",
        "\n",
        "plt.savefig(os.path.join('/content/drive/MyDrive/PhD/TrypanBlue/', outputdirectory, re.sub('.jpg', '_skeletonization.svg', img_file)), dpi=300, pad_inches = 0, transparent = True)"
      ],
      "metadata": {
        "id": "kl21Rc3fD27N",
        "colab": {
          "base_uri": "https://localhost:8080/",
          "height": 107
        },
        "outputId": "02e868b5-f131-44ff-90b6-f0959b595b06"
      },
      "execution_count": null,
      "outputs": [
        {
          "output_type": "display_data",
          "data": {
            "text/plain": [
              "<Figure size 640x480 with 6 Axes>"
            ],
            "image/png": "[encoded data removed]"
          },
          "metadata": {}
        }
      ]
    }
  ]
}