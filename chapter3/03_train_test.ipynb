{
  "nbformat": 4,
  "nbformat_minor": 0,
  "metadata": {
    "colab": {
      "provenance": [],
      "gpuType": "T4",
      "mount_file_id": "1DPwAqTCxGHpmpjtVEUrhu9IOio2gHUUR",
      "authorship_tag": "ABX9TyNtdOQqNjSuhKz/JJhYGUeX",
      "include_colab_link": true
    },
    "kernelspec": {
      "name": "python3",
      "display_name": "Python 3"
    },
    "language_info": {
      "name": "python"
    },
    "accelerator": "GPU"
  },
  "cells": [
    {
      "cell_type": "markdown",
      "metadata": {
        "id": "view-in-github",
        "colab_type": "text"
      },
      "source": [
        "<a href=\"https://colab.research.google.com/github/sebastiantonn/phd/blob/main/chapter3/03_train_test.ipynb\" target=\"_parent\"><img src=\"https://colab.research.google.com/assets/colab-badge.svg\" alt=\"Open In Colab\"/></a>"
      ]
    },
    {
      "cell_type": "code",
      "execution_count": null,
      "metadata": {
        "id": "6Ii7qj8BYtsW"
      },
      "outputs": [],
      "source": [
        "# Import the necessary libraries\n",
        "import numpy as np\n",
        "import pandas as pd\n",
        "import random\n",
        "import tensorflow\n",
        "import tensorflow.keras as keras\n",
        "from tensorflow.keras.preprocessing import image\n",
        "from tensorflow.keras.preprocessing.image import ImageDataGenerator\n",
        "from tensorflow.keras.callbacks import ReduceLROnPlateau, ModelCheckpoint\n",
        "from tensorflow.keras.applications.vgg16 import preprocess_input\n",
        "import matplotlib.pyplot as plt\n",
        "import matplotlib.image as img\n",
        "import shutil\n",
        "import zipfile\n",
        "import os\n",
        "from PIL import Image\n",
        "import re"
      ]
    },
    {
      "cell_type": "code",
      "source": [
        "# Define parameters\n",
        "\n",
        "# Set number of tiles to use for training-validation\n",
        "tilenumber = 13000 #14449\n",
        "\n",
        "# Set file prefix to be used for saving all output\n",
        "prefix = \"240509-05\"\n",
        "\n",
        "# Define the seed value for random functions\n",
        "seedint = 35 #17 #42  #64\n",
        "\n",
        "# Define number of leaf discs used for training-validation\n",
        "train_val = 25"
      ],
      "metadata": {
        "id": "zNXdLmarFphs"
      },
      "execution_count": null,
      "outputs": []
    },
    {
      "cell_type": "code",
      "source": [
        "# Set the seed for all random functions.\n",
        "tensorflow.random.set_seed(seedint) # Define the seed value for tensorflow\n",
        "np.random.seed(seedint)  # Define the seed value for numpy\n",
        "random.seed(seedint) # Define the seed value for python's built-in 'random' module"
      ],
      "metadata": {
        "id": "IHH16-RhGgMq"
      },
      "execution_count": null,
      "outputs": []
    },
    {
      "cell_type": "code",
      "source": [
        "# Set directory for saving model, model weights and plots\n",
        "outputdirectory = prefix + '_trypan-blue_VGG16_adamax_AP60-checkpoints'\n",
        "\n",
        "if not os.path.isdir(os.path.join('/content/drive/MyDrive/PhD/TrypanBlue/', outputdirectory)):\n",
        "  os.mkdir(os.path.join('/content/drive/MyDrive/PhD/TrypanBlue/', outputdirectory))"
      ],
      "metadata": {
        "id": "YJdri6zILDa7"
      },
      "execution_count": null,
      "outputs": []
    },
    {
      "cell_type": "code",
      "source": [
        "# Point the zipfile.ZipFile module towards the zipped folder of interest and open it in read mode.\n",
        "zip_ref = zipfile.ZipFile(\"/content/drive/MyDrive/PhD/TrypanBlue/tiles_resorted_two-classes.zip\", 'r')\n",
        "\n",
        "# Extract the contents of the zipped folder to the 'content' folder of Colab.\n",
        "zip_ref.extractall(\"/content\")\n",
        "zip_ref.close()"
      ],
      "metadata": {
        "id": "9O1I1ak66QsC"
      },
      "execution_count": null,
      "outputs": []
    },
    {
      "cell_type": "code",
      "source": [
        "# Read in list of leafdisc files to include\n",
        "leafdisc_list_path = '/content/drive/MyDrive/PhD/TrypanBlue/240119_leafdisc_selection.xlsx'\n",
        "leafdisc_list = pd.read_excel(leafdisc_list_path)\n",
        "leafdisc_list = list(leafdisc_list['filename'])\n",
        "leafdisc_list = [x.split('.')[0] for x in leafdisc_list] # Split filename and only keep the filename before \".jpg\""
      ],
      "metadata": {
        "id": "bZtFevR3tVOQ"
      },
      "execution_count": null,
      "outputs": []
    },
    {
      "cell_type": "code",
      "source": [
        "# Make selection of leaf discs (of 34) that should be used for training-validation (the rest will be used for testing)\n",
        "leafdiscs_train_val = random.sample(leafdisc_list, train_val)\n",
        "leafdiscs_test = [x for x in leafdisc_list if x not in leafdiscs_train_val]"
      ],
      "metadata": {
        "id": "iXjY-SRstn_n"
      },
      "execution_count": null,
      "outputs": []
    },
    {
      "cell_type": "code",
      "source": [
        "# Define directory that contains tiles to select from as 'tile_source'. This directory should contain subdirectories 'hyphae' and 'no hyphae'.\n",
        "tile_source = '/content/tiles_resorted_two-classes'\n",
        "hyphae_source = os.path.join(tile_source, 'hyphae')\n",
        "nohyphae_source = os.path.join(tile_source, 'no hyphae')\n",
        "\n",
        "# Define directory where to copy selected tiles for training-validation and create if they don't exist yet\n",
        "train_tile_dest = '/content/tiles_resorted_two-classes-train-val'\n",
        "train_hyphae_dest = os.path.join(train_tile_dest, 'hyphae')\n",
        "train_nohyphae_dest = os.path.join(train_tile_dest, 'no hyphae')\n",
        "\n",
        "# Define directory where to copy subset of selected tiles for training-validation and create if they don't exist yet\n",
        "sub_train_tile_dest = '/content/sub-tiles_resorted_two-classes-train-val'\n",
        "sub_train_hyphae_dest = os.path.join(sub_train_tile_dest, 'hyphae')\n",
        "sub_train_nohyphae_dest = os.path.join(sub_train_tile_dest, 'no hyphae')\n",
        "\n",
        "# Define directory where to copy selected tiles for testing and create if they don't exist yet\n",
        "test_tile_dest = '/content/tiles_resorted_two-classes-test'\n",
        "test_hyphae_dest = os.path.join(test_tile_dest, 'hyphae')\n",
        "test_nohyphae_dest = os.path.join(test_tile_dest, 'no hyphae')\n",
        "\n",
        "if not os.path.isdir(train_tile_dest):\n",
        "    os.mkdir(train_tile_dest)\n",
        "if not os.path.isdir(train_hyphae_dest):\n",
        "    os.mkdir(train_hyphae_dest)\n",
        "if not os.path.isdir(train_nohyphae_dest):\n",
        "    os.mkdir(train_nohyphae_dest)\n",
        "\n",
        "if not os.path.isdir(sub_train_tile_dest):\n",
        "    os.mkdir(sub_train_tile_dest)\n",
        "if not os.path.isdir(sub_train_hyphae_dest):\n",
        "    os.mkdir(sub_train_hyphae_dest)\n",
        "if not os.path.isdir(sub_train_nohyphae_dest):\n",
        "    os.mkdir(sub_train_nohyphae_dest)\n",
        "\n",
        "if not os.path.isdir(test_tile_dest):\n",
        "    os.mkdir(test_tile_dest)\n",
        "if not os.path.isdir(test_hyphae_dest):\n",
        "    os.mkdir(test_hyphae_dest)\n",
        "if not os.path.isdir(test_nohyphae_dest):\n",
        "    os.mkdir(test_nohyphae_dest)\n"
      ],
      "metadata": {
        "id": "K2K1yWM47Irt"
      },
      "execution_count": null,
      "outputs": []
    },
    {
      "cell_type": "code",
      "source": [
        "# Split tiles into training-validation and test set based on above leaf disc\n",
        "# selection: Loop through list of tile/patch filenames, check if they contain\n",
        "# the leafdisc filename of our selected set, and copy to target directory\n",
        "hyphae_filenames = os.listdir(hyphae_source)\n",
        "\n",
        "for filename in hyphae_filenames:\n",
        "  for leafdisc_filename in leafdiscs_train_val:\n",
        "    if leafdisc_filename in filename:\n",
        "      sourcepath = os.path.join(hyphae_source, filename)\n",
        "      destpath = os.path.join(train_hyphae_dest, filename)\n",
        "      shutil.copyfile(sourcepath, destpath)\n",
        "\n",
        "for filename in hyphae_filenames:\n",
        "  for leafdisc_filename in leafdiscs_test:\n",
        "    if leafdisc_filename in filename:\n",
        "      sourcepath = os.path.join(hyphae_source, filename)\n",
        "      destpath = os.path.join(test_hyphae_dest, filename)\n",
        "      shutil.copyfile(sourcepath, destpath)\n",
        "\n",
        "\n",
        "nohyphae_filenames = os.listdir(nohyphae_source)\n",
        "\n",
        "for filename in nohyphae_filenames:\n",
        "  for leafdisc_filename in leafdiscs_train_val:\n",
        "    if leafdisc_filename in filename:\n",
        "      sourcepath = os.path.join(nohyphae_source, filename)\n",
        "      destpath = os.path.join(train_nohyphae_dest, filename)\n",
        "      shutil.copyfile(sourcepath, destpath)\n",
        "\n",
        "for filename in nohyphae_filenames:\n",
        "  for leafdisc_filename in leafdiscs_test:\n",
        "    if leafdisc_filename in filename:\n",
        "      sourcepath = os.path.join(nohyphae_source, filename)\n",
        "      destpath = os.path.join(test_nohyphae_dest, filename)\n",
        "      shutil.copyfile(sourcepath, destpath)\n",
        "\n"
      ],
      "metadata": {
        "id": "Azh_Og2u8Efk"
      },
      "execution_count": null,
      "outputs": []
    },
    {
      "cell_type": "code",
      "source": [
        "# Check number of tiles present per class 'hyphae' and 'no hyphae' in\n",
        "# training-validation and test sets\n",
        "\n",
        "hyphae_training = len([name for name in os.listdir(train_hyphae_dest) if os.path.isfile(os.path.join(train_hyphae_dest, name))])\n",
        "print('Training hyphae tiles: ', hyphae_training)\n",
        "nohyphae_training = len([name for name in os.listdir(train_nohyphae_dest) if os.path.isfile(os.path.join(train_nohyphae_dest, name))])\n",
        "print('Training no-hyphae tiles: ', nohyphae_training)\n",
        "\n",
        "hyphae_testing = len([name for name in os.listdir(test_hyphae_dest) if os.path.isfile(os.path.join(test_hyphae_dest, name))])\n",
        "print('Testing hyphae tiles: ', hyphae_testing)\n",
        "nohyphae_testing = len([name for name in os.listdir(test_nohyphae_dest) if os.path.isfile(os.path.join(test_nohyphae_dest, name))])\n",
        "print('Testing no-hyphae tiles: ', nohyphae_testing)"
      ],
      "metadata": {
        "id": "O-cwvO8H71_3",
        "colab": {
          "base_uri": "https://localhost:8080/"
        },
        "outputId": "a366e2a8-30f2-4554-9373-f6f4feb49b63"
      },
      "execution_count": null,
      "outputs": [
        {
          "output_type": "stream",
          "name": "stdout",
          "text": [
            "Training hyphae tiles:  5619\n",
            "Training no-hyphae tiles:  8839\n",
            "Testing hyphae tiles:  3062\n",
            "Testing no-hyphae tiles:  2177\n"
          ]
        }
      ]
    },
    {
      "cell_type": "code",
      "source": [
        "# Check number of tiles to select from each class based on total tile number.\n",
        "# The idea here is to maintain the ratios of 'hyphae' and 'no hyphae' tiles of the whole data set (ca. 0.3 and 0.7)\n",
        "# in the training-validation set\n",
        "\n",
        "hyphae_selection = round((hyphae_training/(hyphae_training+nohyphae_training)) * tilenumber) #0.44\n",
        "nohyphae_selection = round((nohyphae_training/(hyphae_training+nohyphae_training)) * tilenumber) #0.56\n"
      ],
      "metadata": {
        "id": "znPzMm5qkWVK"
      },
      "execution_count": null,
      "outputs": []
    },
    {
      "cell_type": "code",
      "source": [
        "# Copy the determined number of tiles from the tile set selected for training to a new directory.\n",
        "# The selection is done at random.\n",
        "hyphae_filenames = random.sample(os.listdir(train_hyphae_dest), hyphae_selection)\n",
        "\n",
        "for filename in hyphae_filenames:\n",
        "  sourcepath = os.path.join(train_hyphae_dest, filename)\n",
        "  destpath = os.path.join(sub_train_hyphae_dest, filename)\n",
        "  shutil.copyfile(sourcepath, destpath)\n",
        "\n",
        "nohyphae_filenames = random.sample(os.listdir(train_nohyphae_dest), nohyphae_selection)\n",
        "\n",
        "for filename in nohyphae_filenames:\n",
        "  sourcepath = os.path.join(nohyphae_source, filename)\n",
        "  destpath = os.path.join(sub_train_nohyphae_dest, filename)\n",
        "  shutil.copyfile(sourcepath, destpath)\n",
        "\n"
      ],
      "metadata": {
        "id": "G1ljGkMj72sa"
      },
      "execution_count": null,
      "outputs": []
    },
    {
      "cell_type": "code",
      "source": [
        "hyphae_selected = len([name for name in os.listdir(sub_train_hyphae_dest) if os.path.isfile(os.path.join(sub_train_hyphae_dest, name))])\n",
        "print('Total number of selected hyphae tiles: ', hyphae_selected)\n",
        "\n",
        "nohyphae_selected = len([name for name in os.listdir(sub_train_nohyphae_dest) if os.path.isfile(os.path.join(sub_train_nohyphae_dest, name))])\n",
        "print('Total number of selected no-hyphae tiles: ', nohyphae_selected)"
      ],
      "metadata": {
        "id": "jvsrp1D08JYP",
        "colab": {
          "base_uri": "https://localhost:8080/"
        },
        "outputId": "9466b9b6-df19-497c-c062-e75ff83ac4e6"
      },
      "execution_count": null,
      "outputs": [
        {
          "output_type": "stream",
          "name": "stdout",
          "text": [
            "Total number of selected hyphae tiles:  5052\n",
            "Total number of selected no-hyphae tiles:  7948\n"
          ]
        }
      ]
    },
    {
      "cell_type": "code",
      "source": [
        "# Change working directory to the folder containing the tiles\n",
        "image_tile_directory = '/content/sub-tiles_resorted_two-classes-train-val'\n",
        "os.chdir(image_tile_directory)\n"
      ],
      "metadata": {
        "id": "oQQy8ugXY9_d"
      },
      "execution_count": null,
      "outputs": []
    },
    {
      "cell_type": "code",
      "source": [
        "\n",
        "# Create two functions:\n",
        "#     plot_history - used to visualize how the metrics values changed throughout the run.\n",
        "#                    Here, the metrics 'accuracy' and 'loss' will be plotted.\n",
        "#     generators - used to prepare the input data for training and validation\n",
        "#                  from the image directory files.\n",
        "\n",
        "def plot_history(history, yrange = (0.0-1.0)):\n",
        "\n",
        "    # Call 'history' to get the values for each metric for each epoch\n",
        "    acc = history.history['acc']\n",
        "    validation_acc = history.history['val_acc']\n",
        "    loss = history.history['loss']\n",
        "    validation_loss = history.history['val_loss']\n",
        "\n",
        "    # Get the count of epochs\n",
        "    # This will be the horizontal axis of the two charts.\n",
        "    epochs = range(1, len(acc)+1)\n",
        "\n",
        "    # Create the plots.\n",
        "    # One with both plots\n",
        "    fig1, (ax1, ax2) = plt.subplots(ncols = 2, layout=\"constrained\")\n",
        "    ax1.plot(epochs, acc, label = 'training')\n",
        "    ax1.plot(epochs, validation_acc, label = 'validation')\n",
        "    ax1.set_title('Training and validation accuracy')\n",
        "    ax1.set_ylim(yrange)\n",
        "    ax1.set(xlabel = 'Epoch', ylabel = 'Binary Accuracy')\n",
        "    ax1.legend(loc=\"lower right\")\n",
        "\n",
        "    ax2.plot(epochs, loss, label = 'training')\n",
        "    ax2.plot(epochs, validation_loss, label = 'validation')\n",
        "    ax2.set_title('Training and validation loss')\n",
        "    ax2.set_ylim(yrange)\n",
        "    ax2.set(xlabel = 'Epoch', ylabel = 'Loss')\n",
        "    ax2.legend(loc=\"upper right\")\n",
        "\n",
        "    ax1.set_box_aspect(1)\n",
        "    ax2.set_box_aspect(1)\n",
        "\n",
        "\n",
        "    fig1.savefig(os.path.join('/content/drive/MyDrive/PhD/TrypanBlue/', outputdirectory, 'train-val-acc-loss.svg'), dpi=300, pad_inches = 0, transparent = True)\n",
        "    plt.close(fig1)\n",
        "\n",
        "\n",
        "    # one for training and validation accuracy,\n",
        "    fig2, ax = plt.subplots()\n",
        "    ax.plot(epochs, acc, label = 'training')\n",
        "    ax.plot(epochs, validation_acc, label = 'validation')\n",
        "    ax.set_title('Training and validation accuracy')\n",
        "    ax.set_ylim(yrange)\n",
        "    ax.set(xlabel = 'Epoch', ylabel = 'Binary Accuracy')\n",
        "    ax.legend(loc=\"lower right\")\n",
        "    ax.set_box_aspect(1)\n",
        "    fig2.savefig(os.path.join('/content/drive/MyDrive/PhD/TrypanBlue/', outputdirectory, 'train-val-acc.svg'), dpi=300, pad_inches = 0, transparent = True)\n",
        "    plt.close(fig2)\n",
        "\n",
        "\n",
        "    # and another for training and validation loss.\n",
        "    fig3, ax = plt.subplots()\n",
        "    ax.plot(epochs, loss, label = 'training')\n",
        "    ax.plot(epochs, validation_loss, label = 'validation')\n",
        "    ax.set_title('Training and validation loss')\n",
        "    ax.set_ylim(yrange)\n",
        "    ax.set(xlabel = 'Epoch', ylabel = 'Loss')\n",
        "    ax.legend(loc=\"upper right\")\n",
        "    ax.set_box_aspect(1)\n",
        "    fig3.savefig(os.path.join('/content/drive/MyDrive/PhD/TrypanBlue/', outputdirectory, 'train-val-loss.svg'), dpi=300, pad_inches = 0, transparent = True)\n",
        "    plt.close(fig3)\n"
      ],
      "metadata": {
        "id": "erOR_KBbZZ1p"
      },
      "execution_count": null,
      "outputs": []
    },
    {
      "cell_type": "code",
      "source": [
        "# The function 'generators' will use the subdirectories for each class\n",
        "# and process each image in a way that is amenable to the base_model (VGG16).\n",
        "\n",
        "def generators(preprocessor, validation_split, batch_size, target_size, seed = seedint):\n",
        "\n",
        "    # preprocess = a callable function that is specific to each base_model (e.g. ResNet50, VGG16, etc).\n",
        "    #              https://www.tensorflow.org/api_docs/python/tf/keras/applications/resnet50/preprocess_input\n",
        "\n",
        "    # validation_split = a float representing the fraction of images from the image directory\n",
        "    #                    that will be used for validation steps. The remainder will be used for training steps.\n",
        "\n",
        "    # batch_size = integer representing the number of images per batch.\n",
        "    #              IMPORTANT: To change batch sizes, you need to define it when you call the generators function.\n",
        "    #                             Changing it elsewhere (e.g. model.fit() will not work)\n",
        "\n",
        "    # target_size = height and width (in pixels) to which the input images will be rescaled.\n",
        "    #               The preprocessing function will do this automatically but it is set here\n",
        "    #               in order to make the target size explicit.\n",
        "\n",
        "    # Create variable 'datagen' to contain the chosen parameters of ImageDataGenerator,\n",
        "    #     which will perform the preprocessing steps (including data augmentation steps).\n",
        "    #     https://www.tensorflow.org/api_docs/python/tf/keras/preprocessing/image/ImageDataGenerator\n",
        "\n",
        "    # Info on how different augmentation arguments work: https://gac6.medium.com/visualizing-data-augmentations-from-keras-image-data-generator-44f040aa4c9f\n",
        "    # and https://towardsdatascience.com/exploring-image-data-augmentation-with-keras-and-tensorflow-a8162d89b844\n",
        "    # and https://www.studytonight.com/post/random-brightness-image-augmentation-keras-imagedatagenerator\n",
        "    datagen = ImageDataGenerator(\n",
        "        preprocessing_function = preprocessor,\n",
        "        horizontal_flip = True,\n",
        "        vertical_flip = True,\n",
        "        rotation_range = 50,\n",
        "        shear_range = 30,\n",
        "        zoom_range = [1.0, 1.5],\n",
        "        channel_shift_range = 20,\n",
        "        brightness_range=(0.8, 1.2),\n",
        "        fill_mode = \"wrap\",\n",
        "        validation_split = validation_split, # proportion of total image count to use as the validation set\n",
        "    )\n",
        "\n",
        "    # Generate the training dataset by calling imgdatagen and the flow_from_directory() method.\n",
        "    # The 'classes' parameter is a list containing strings that must match the subdirectory folder names.\n",
        "    train_dataset = datagen.flow_from_directory(\n",
        "        directory = os.getcwd(),\n",
        "        target_size = target_size,\n",
        "        batch_size = batch_size,\n",
        "        classes = ['no hyphae', 'hyphae'], # A list containing strings that match the subdirectory folder names.\n",
        "                                           # order of the list determines the numeric value of the class.\n",
        "                                           # In this case, 'no hyphae' = 0, and 'hyphae' = 1.\n",
        "        class_mode = \"binary\", # indicates how the data labels should be treated\n",
        "        color_mode = \"rgb\",\n",
        "        shuffle = True,\n",
        "        subset = \"training\", #indicates that this is the dataset which will be used for training steps.\n",
        "        interpolation = \"nearest\", # method for resizing\n",
        "        seed = seed\n",
        "    )\n",
        "\n",
        "    #repeat 'imgdatagen' on the validation set.\n",
        "    valid_dataset = datagen.flow_from_directory(\n",
        "        directory = os.getcwd(),\n",
        "        target_size = target_size,\n",
        "        batch_size = batch_size,\n",
        "        classes = ['no hyphae', 'hyphae'],\n",
        "        class_mode = \"binary\",\n",
        "        color_mode = \"rgb\",\n",
        "        shuffle = True,\n",
        "        subset = \"validation\", #indicates that this is the dataset which will be used for validation steps.\n",
        "        interpolation = \"nearest\",\n",
        "        seed = seed\n",
        "    )\n",
        "    return train_dataset, valid_dataset #return the two preprocessed datasets that will be used as inputs when model.fit() is called.\n"
      ],
      "metadata": {
        "id": "VxGWHLr5ZdfS"
      },
      "execution_count": null,
      "outputs": []
    },
    {
      "cell_type": "code",
      "source": [
        "# Define object 'vgg16' as the call for the base_model VGG16\n",
        "vgg16 = keras.applications.vgg16"
      ],
      "metadata": {
        "id": "zMc9WVRiZhtO"
      },
      "execution_count": null,
      "outputs": []
    },
    {
      "cell_type": "code",
      "source": [
        "# Call the 'generators' function to create our training and validation datasets\n",
        "# Note that 'preprocess = vgg16.preprocess_input' is how we call the preprocessing steps\n",
        "#     that are required for our specific base_model, which is VGG16.\n",
        "\n",
        "train_dataset, valid_dataset = generators(preprocessor = vgg16.preprocess_input,\n",
        "                                          validation_split = 0.25,\n",
        "                                          batch_size = 128,\n",
        "                                          target_size = (224, 224),\n",
        "                                          seed = seedint)"
      ],
      "metadata": {
        "id": "TFpL3GMTZnC_",
        "colab": {
          "base_uri": "https://localhost:8080/"
        },
        "outputId": "20526578-e6dd-4510-b35b-5628004d7dad"
      },
      "execution_count": null,
      "outputs": [
        {
          "output_type": "stream",
          "name": "stdout",
          "text": [
            "Found 9750 images belonging to 2 classes.\n",
            "Found 3250 images belonging to 2 classes.\n"
          ]
        }
      ]
    },
    {
      "cell_type": "code",
      "source": [
        "# Define the base_model architecture as ResNet50.\n",
        "base_model = vgg16.VGG16(weights = \"imagenet\",  # Load the ImageNet weights onto the architecture\n",
        "                               include_top = False, # Do not include the fully connected top layer.\n",
        "                               input_shape = (224, 224,3))"
      ],
      "metadata": {
        "id": "j143Pz45Z59I",
        "colab": {
          "base_uri": "https://localhost:8080/"
        },
        "outputId": "79557984-5163-4255-a17b-ccf67f1cd700"
      },
      "execution_count": null,
      "outputs": [
        {
          "output_type": "stream",
          "name": "stdout",
          "text": [
            "Downloading data from https://storage.googleapis.com/tensorflow/keras-applications/vgg16/vgg16_weights_tf_dim_ordering_tf_kernels_notop.h5\n",
            "58889256/58889256 [==============================] - 0s 0us/step\n"
          ]
        }
      ]
    },
    {
      "cell_type": "code",
      "source": [
        "# Unfreeze all layers of the base_model.\n",
        "\n",
        "for layer in base_model.layers:\n",
        "    layer.trainable = True"
      ],
      "metadata": {
        "id": "2aTsS4eIZ9Gq"
      },
      "execution_count": null,
      "outputs": []
    },
    {
      "cell_type": "code",
      "source": [
        "# Now, the top layers of the 'full_model' will be defined and added atop the VGG16 'base_model'\n",
        "\n",
        "x = keras.layers.Flatten()(base_model.output) # The base_model will output a 4D tensor. This layer flattens it to 2D\n",
        "                                              # https://keras.io/api/layers/reshaping_layers/flatten/"
      ],
      "metadata": {
        "id": "XvzwQVU0aC_F"
      },
      "execution_count": null,
      "outputs": []
    },
    {
      "cell_type": "code",
      "source": [
        "# Now that the base_model output data is in a 2D shape,\n",
        "# it is fed through three sets of a Dense - Dropout - BatchNormalization motif.\n",
        "\n",
        "# The Dense layers\n",
        "#      https://keras.io/api/layers/core_layers/dense/\n",
        "# The Dropout and BatchNormalization layers are there to prevent overfitting.\n",
        "#     https://keras.io/api/layers/regularization_layers/dropout/\n",
        "#     https://keras.io/api/layers/normalization_layers/batch_normalization/\n",
        "\n",
        "x = keras.layers.Dense(128, activation = 'relu')(x) # https://keras.io/api/layers/core_layers/dense/\n",
        "                                                    # https://keras.io/api/layers/activations/#relu-function\n",
        "x = keras.layers.Dropout(0.4, seed = seedint)(x)  # https://keras.io/api/layers/regularization_layers/dropout/\n",
        "x = keras.layers.BatchNormalization()(x)  # https://keras.io/api/layers/normalization_layers/batch_normalization/\n",
        "\n",
        "x = keras.layers.Dense(64, activation = 'relu')(x)\n",
        "x = keras.layers.Dropout(0.4, seed = seedint)(x)\n",
        "x = keras.layers.BatchNormalization()(x)\n",
        "\n",
        "x = keras.layers.Dense(32, activation = 'relu')(x)\n",
        "x = keras.layers.Dropout(0.2, seed = seedint)(x)\n",
        "x = keras.layers.BatchNormalization()(x)\n",
        "\n",
        "#Finally, the data is passed to a Dense layer with 1 dimension of output and a sigmoid activation\n",
        "#This is the layer responsible for outputing a binary prediction of an input image's class.\n",
        "x = keras.layers.Dense(1)(x)  # https://www.tensorflow.org/api_docs/python/tf/keras/activations/sigmoid\n",
        "predictions = keras.layers.Activation('sigmoid') (x)"
      ],
      "metadata": {
        "id": "SWo998UiaGFd"
      },
      "execution_count": null,
      "outputs": []
    },
    {
      "cell_type": "code",
      "source": [
        "# Call models.Model() to make the base_model and the custom top layers a cohesive architecture\n",
        "# with 'predictions' as the output.\n",
        "# Define that architecture as 'full_model'\n",
        "full_model = keras.models.Model(inputs = base_model.input, outputs = predictions)"
      ],
      "metadata": {
        "id": "LCnviWtQaNFq"
      },
      "execution_count": null,
      "outputs": []
    },
    {
      "cell_type": "code",
      "source": [
        "#Display every layer of the 'full_model' architecture.\n",
        "full_model.summary()\n",
        "\n",
        "train_dataset.class_indices\n",
        "valid_dataset.class_indices"
      ],
      "metadata": {
        "id": "fqlafTLGaRfn",
        "colab": {
          "base_uri": "https://localhost:8080/"
        },
        "outputId": "ba559d42-a676-4bfd-ca6e-42f6fc12583d"
      },
      "execution_count": null,
      "outputs": [
        {
          "output_type": "stream",
          "name": "stdout",
          "text": [
            "Model: \"model\"\n",
            "_________________________________________________________________\n",
            " Layer (type)                Output Shape              Param #   \n",
            "=================================================================\n",
            " input_1 (InputLayer)        [(None, 224, 224, 3)]     0         \n",
            "                                                                 \n",
            " block1_conv1 (Conv2D)       (None, 224, 224, 64)      1792      \n",
            "                                                                 \n",
            " block1_conv2 (Conv2D)       (None, 224, 224, 64)      36928     \n",
            "                                                                 \n",
            " block1_pool (MaxPooling2D)  (None, 112, 112, 64)      0         \n",
            "                                                                 \n",
            " block2_conv1 (Conv2D)       (None, 112, 112, 128)     73856     \n",
            "                                                                 \n",
            " block2_conv2 (Conv2D)       (None, 112, 112, 128)     147584    \n",
            "                                                                 \n",
            " block2_pool (MaxPooling2D)  (None, 56, 56, 128)       0         \n",
            "                                                                 \n",
            " block3_conv1 (Conv2D)       (None, 56, 56, 256)       295168    \n",
            "                                                                 \n",
            " block3_conv2 (Conv2D)       (None, 56, 56, 256)       590080    \n",
            "                                                                 \n",
            " block3_conv3 (Conv2D)       (None, 56, 56, 256)       590080    \n",
            "                                                                 \n",
            " block3_pool (MaxPooling2D)  (None, 28, 28, 256)       0         \n",
            "                                                                 \n",
            " block4_conv1 (Conv2D)       (None, 28, 28, 512)       1180160   \n",
            "                                                                 \n",
            " block4_conv2 (Conv2D)       (None, 28, 28, 512)       2359808   \n",
            "                                                                 \n",
            " block4_conv3 (Conv2D)       (None, 28, 28, 512)       2359808   \n",
            "                                                                 \n",
            " block4_pool (MaxPooling2D)  (None, 14, 14, 512)       0         \n",
            "                                                                 \n",
            " block5_conv1 (Conv2D)       (None, 14, 14, 512)       2359808   \n",
            "                                                                 \n",
            " block5_conv2 (Conv2D)       (None, 14, 14, 512)       2359808   \n",
            "                                                                 \n",
            " block5_conv3 (Conv2D)       (None, 14, 14, 512)       2359808   \n",
            "                                                                 \n",
            " block5_pool (MaxPooling2D)  (None, 7, 7, 512)         0         \n",
            "                                                                 \n",
            " flatten (Flatten)           (None, 25088)             0         \n",
            "                                                                 \n",
            " dense (Dense)               (None, 128)               3211392   \n",
            "                                                                 \n",
            " dropout (Dropout)           (None, 128)               0         \n",
            "                                                                 \n",
            " batch_normalization (Batch  (None, 128)               512       \n",
            " Normalization)                                                  \n",
            "                                                                 \n",
            " dense_1 (Dense)             (None, 64)                8256      \n",
            "                                                                 \n",
            " dropout_1 (Dropout)         (None, 64)                0         \n",
            "                                                                 \n",
            " batch_normalization_1 (Bat  (None, 64)                256       \n",
            " chNormalization)                                                \n",
            "                                                                 \n",
            " dense_2 (Dense)             (None, 32)                2080      \n",
            "                                                                 \n",
            " dropout_2 (Dropout)         (None, 32)                0         \n",
            "                                                                 \n",
            " batch_normalization_2 (Bat  (None, 32)                128       \n",
            " chNormalization)                                                \n",
            "                                                                 \n",
            " dense_3 (Dense)             (None, 1)                 33        \n",
            "                                                                 \n",
            " activation (Activation)     (None, 1)                 0         \n",
            "                                                                 \n",
            "=================================================================\n",
            "Total params: 17937345 (68.43 MB)\n",
            "Trainable params: 17936897 (68.42 MB)\n",
            "Non-trainable params: 448 (1.75 KB)\n",
            "_________________________________________________________________\n"
          ]
        },
        {
          "output_type": "execute_result",
          "data": {
            "text/plain": [
              "{'no hyphae': 0, 'hyphae': 1}"
            ]
          },
          "metadata": {},
          "execution_count": 25
        }
      ]
    },
    {
      "cell_type": "code",
      "source": [
        "# Setting up callbacks\n",
        "# https://keras.io/api/callbacks/\n",
        "\n",
        "# Set a learning rate callback to reduce the learning rate\n",
        "# if the 'val_loss' value plateaus for more than 3 epochs\n",
        "# https://keras.io/api/callbacks/reduce_lr_on_plateau/\n",
        "\n",
        "reduce_lr = keras.callbacks.ReduceLROnPlateau(monitor='val_loss', # The callback is activated based on the 'val_loss' metric.\n",
        "                                              factor=0.2, #0.2, # Factor by which to multiply the old learning rate to get the new one.\n",
        "                                              patience=5, # The learning rate is reduced if the 'val_loss' does not decrease for 5 epochs.\n",
        "                                              min_lr=0.0000001, # Minimum bound that the learning rate can reach.\n",
        "                                              verbose = 1)\n",
        "\n",
        "# Set a checkpoint callback that will save the best weights for the model\n",
        "# even if the best results happen after an epoch that is not the last one.\n",
        "# https://www.tensorflow.org/api_docs/python/tf/keras/callbacks/ModelCheckpoint\n",
        "\n",
        "checkpoint_filepath = os.path.join('/content/drive/MyDrive/PhD/TrypanBlue/', outputdirectory, 'weights_{epoch:02d}-{val_loss:0.2f}.hdf5') #path for the saved weights.\n",
        "checkpoint_save = keras.callbacks.ModelCheckpoint(\n",
        "    filepath=checkpoint_filepath,\n",
        "    save_weights_only=True, # Only save the weights; not the whole model\n",
        "    monitor='val_loss', # The weights of the epoch that produces the best 'val_loss' will be saved.\n",
        "    mode='min', # define the best 'val_loss' as the lowest 'val_loss'\n",
        "    save_best_only=True,\n",
        "    verbose = 1)"
      ],
      "metadata": {
        "id": "0Xxke7aEaVQp"
      },
      "execution_count": null,
      "outputs": []
    },
    {
      "cell_type": "code",
      "source": [
        "#take the 'full' model and train it for 'hyphae' vs 'no hyphae'\n",
        "full_model.compile(loss = 'binary_crossentropy', optimizer = keras.optimizers.Adamax(learning_rate = 0.0001), metrics = ['acc'])\n",
        "\n",
        "history = full_model.fit(\n",
        "    train_dataset,\n",
        "    validation_data = valid_dataset,\n",
        "    workers = 10,\n",
        "    epochs = 20,\n",
        "    callbacks = [reduce_lr, checkpoint_save],\n",
        "    class_weight = {1:1.13, 0:0.89} # This is a very important parameter - it is meant to balance out imbalanced data.\n",
        "                                      # ex: weight_1 = (1/number of classes) * total number of samples / number of samples in that class\n",
        "                                      # If we have 19697 images, and 8681 of those are infected then the weight would be:\n",
        "                                      # (1/2) * 19697 / 8681 = 1.13\n",
        ")"
      ],
      "metadata": {
        "id": "y-Tlydhaagr_",
        "colab": {
          "base_uri": "https://localhost:8080/"
        },
        "outputId": "8ef6ca76-03f9-4bee-ed60-d9b4776251e5"
      },
      "execution_count": null,
      "outputs": [
        {
          "output_type": "stream",
          "name": "stdout",
          "text": [
            "Epoch 1/20\n",
            "77/77 [==============================] - ETA: 0s - loss: 0.5283 - acc: 0.7125\n",
            "Epoch 1: val_loss improved from inf to 0.26434, saving model to /content/drive/MyDrive/PhD/TrypanBlue/240509-05_trypan-blue_VGG16_adamax_AP60-checkpoints/weights_01-0.26.hdf5\n",
            "77/77 [==============================] - 359s 3s/step - loss: 0.5283 - acc: 0.7125 - val_loss: 0.2643 - val_acc: 0.9034 - lr: 1.0000e-04\n",
            "Epoch 2/20\n",
            "77/77 [==============================] - ETA: 0s - loss: 0.3812 - acc: 0.8159\n",
            "Epoch 2: val_loss improved from 0.26434 to 0.20930, saving model to /content/drive/MyDrive/PhD/TrypanBlue/240509-05_trypan-blue_VGG16_adamax_AP60-checkpoints/weights_02-0.21.hdf5\n",
            "77/77 [==============================] - 325s 4s/step - loss: 0.3812 - acc: 0.8159 - val_loss: 0.2093 - val_acc: 0.9277 - lr: 1.0000e-04\n",
            "Epoch 3/20\n",
            "77/77 [==============================] - ETA: 0s - loss: 0.3196 - acc: 0.8664\n",
            "Epoch 3: val_loss improved from 0.20930 to 0.19139, saving model to /content/drive/MyDrive/PhD/TrypanBlue/240509-05_trypan-blue_VGG16_adamax_AP60-checkpoints/weights_03-0.19.hdf5\n",
            "77/77 [==============================] - 283s 3s/step - loss: 0.3196 - acc: 0.8664 - val_loss: 0.1914 - val_acc: 0.9415 - lr: 1.0000e-04\n",
            "Epoch 4/20\n",
            "77/77 [==============================] - ETA: 0s - loss: 0.2869 - acc: 0.8863\n",
            "Epoch 4: val_loss did not improve from 0.19139\n",
            "77/77 [==============================] - 284s 3s/step - loss: 0.2869 - acc: 0.8863 - val_loss: 0.2099 - val_acc: 0.9477 - lr: 1.0000e-04\n",
            "Epoch 5/20\n",
            "77/77 [==============================] - ETA: 0s - loss: 0.2647 - acc: 0.8998\n",
            "Epoch 5: val_loss improved from 0.19139 to 0.16764, saving model to /content/drive/MyDrive/PhD/TrypanBlue/240509-05_trypan-blue_VGG16_adamax_AP60-checkpoints/weights_05-0.17.hdf5\n",
            "77/77 [==============================] - 280s 3s/step - loss: 0.2647 - acc: 0.8998 - val_loss: 0.1676 - val_acc: 0.9551 - lr: 1.0000e-04\n",
            "Epoch 6/20\n",
            "77/77 [==============================] - ETA: 0s - loss: 0.2481 - acc: 0.9086\n",
            "Epoch 6: val_loss did not improve from 0.16764\n",
            "77/77 [==============================] - 283s 3s/step - loss: 0.2481 - acc: 0.9086 - val_loss: 0.1914 - val_acc: 0.9538 - lr: 1.0000e-04\n",
            "Epoch 7/20\n",
            "77/77 [==============================] - ETA: 0s - loss: 0.2337 - acc: 0.9186\n",
            "Epoch 7: val_loss did not improve from 0.16764\n",
            "77/77 [==============================] - 282s 3s/step - loss: 0.2337 - acc: 0.9186 - val_loss: 0.1992 - val_acc: 0.9551 - lr: 1.0000e-04\n",
            "Epoch 8/20\n",
            "77/77 [==============================] - ETA: 0s - loss: 0.2152 - acc: 0.9317\n",
            "Epoch 8: val_loss did not improve from 0.16764\n",
            "77/77 [==============================] - 280s 3s/step - loss: 0.2152 - acc: 0.9317 - val_loss: 0.1968 - val_acc: 0.9532 - lr: 1.0000e-04\n",
            "Epoch 9/20\n",
            "77/77 [==============================] - ETA: 0s - loss: 0.2090 - acc: 0.9311\n",
            "Epoch 9: val_loss did not improve from 0.16764\n",
            "77/77 [==============================] - 327s 4s/step - loss: 0.2090 - acc: 0.9311 - val_loss: 0.2090 - val_acc: 0.9502 - lr: 1.0000e-04\n",
            "Epoch 10/20\n",
            "77/77 [==============================] - ETA: 0s - loss: 0.1926 - acc: 0.9377\n",
            "Epoch 10: ReduceLROnPlateau reducing learning rate to 1.9999999494757503e-05.\n",
            "\n",
            "Epoch 10: val_loss did not improve from 0.16764\n",
            "77/77 [==============================] - 283s 3s/step - loss: 0.1926 - acc: 0.9377 - val_loss: 0.2296 - val_acc: 0.9511 - lr: 1.0000e-04\n",
            "Epoch 11/20\n",
            "77/77 [==============================] - ETA: 0s - loss: 0.1818 - acc: 0.9430\n",
            "Epoch 11: val_loss improved from 0.16764 to 0.15953, saving model to /content/drive/MyDrive/PhD/TrypanBlue/240509-05_trypan-blue_VGG16_adamax_AP60-checkpoints/weights_11-0.16.hdf5\n",
            "77/77 [==============================] - 280s 3s/step - loss: 0.1818 - acc: 0.9430 - val_loss: 0.1595 - val_acc: 0.9594 - lr: 2.0000e-05\n",
            "Epoch 12/20\n",
            "77/77 [==============================] - ETA: 0s - loss: 0.1789 - acc: 0.9448\n",
            "Epoch 12: val_loss did not improve from 0.15953\n",
            "77/77 [==============================] - 283s 3s/step - loss: 0.1789 - acc: 0.9448 - val_loss: 0.1643 - val_acc: 0.9600 - lr: 2.0000e-05\n",
            "Epoch 13/20\n",
            "77/77 [==============================] - ETA: 0s - loss: 0.1780 - acc: 0.9466\n",
            "Epoch 13: val_loss improved from 0.15953 to 0.15135, saving model to /content/drive/MyDrive/PhD/TrypanBlue/240509-05_trypan-blue_VGG16_adamax_AP60-checkpoints/weights_13-0.15.hdf5\n",
            "77/77 [==============================] - 327s 4s/step - loss: 0.1780 - acc: 0.9466 - val_loss: 0.1513 - val_acc: 0.9578 - lr: 2.0000e-05\n",
            "Epoch 14/20\n",
            "77/77 [==============================] - ETA: 0s - loss: 0.1760 - acc: 0.9449\n",
            "Epoch 14: val_loss improved from 0.15135 to 0.15069, saving model to /content/drive/MyDrive/PhD/TrypanBlue/240509-05_trypan-blue_VGG16_adamax_AP60-checkpoints/weights_14-0.15.hdf5\n",
            "77/77 [==============================] - 329s 4s/step - loss: 0.1760 - acc: 0.9449 - val_loss: 0.1507 - val_acc: 0.9628 - lr: 2.0000e-05\n",
            "Epoch 15/20\n",
            "77/77 [==============================] - ETA: 0s - loss: 0.1761 - acc: 0.9457\n",
            "Epoch 15: val_loss improved from 0.15069 to 0.14729, saving model to /content/drive/MyDrive/PhD/TrypanBlue/240509-05_trypan-blue_VGG16_adamax_AP60-checkpoints/weights_15-0.15.hdf5\n",
            "77/77 [==============================] - 281s 3s/step - loss: 0.1761 - acc: 0.9457 - val_loss: 0.1473 - val_acc: 0.9554 - lr: 2.0000e-05\n",
            "Epoch 16/20\n",
            "77/77 [==============================] - ETA: 0s - loss: 0.1665 - acc: 0.9506\n",
            "Epoch 16: val_loss did not improve from 0.14729\n",
            "77/77 [==============================] - 326s 4s/step - loss: 0.1665 - acc: 0.9506 - val_loss: 0.1553 - val_acc: 0.9582 - lr: 2.0000e-05\n",
            "Epoch 17/20\n",
            "77/77 [==============================] - ETA: 0s - loss: 0.1681 - acc: 0.9488\n",
            "Epoch 17: val_loss improved from 0.14729 to 0.14497, saving model to /content/drive/MyDrive/PhD/TrypanBlue/240509-05_trypan-blue_VGG16_adamax_AP60-checkpoints/weights_17-0.14.hdf5\n",
            "77/77 [==============================] - 281s 3s/step - loss: 0.1681 - acc: 0.9488 - val_loss: 0.1450 - val_acc: 0.9658 - lr: 2.0000e-05\n",
            "Epoch 18/20\n",
            "77/77 [==============================] - ETA: 0s - loss: 0.1708 - acc: 0.9470\n",
            "Epoch 18: val_loss did not improve from 0.14497\n",
            "77/77 [==============================] - 279s 3s/step - loss: 0.1708 - acc: 0.9470 - val_loss: 0.1509 - val_acc: 0.9609 - lr: 2.0000e-05\n",
            "Epoch 19/20\n",
            "77/77 [==============================] - ETA: 0s - loss: 0.1672 - acc: 0.9517\n",
            "Epoch 19: val_loss did not improve from 0.14497\n",
            "77/77 [==============================] - 274s 3s/step - loss: 0.1672 - acc: 0.9517 - val_loss: 0.1548 - val_acc: 0.9646 - lr: 2.0000e-05\n",
            "Epoch 20/20\n",
            "77/77 [==============================] - ETA: 0s - loss: 0.1641 - acc: 0.9514\n",
            "Epoch 20: val_loss improved from 0.14497 to 0.12728, saving model to /content/drive/MyDrive/PhD/TrypanBlue/240509-05_trypan-blue_VGG16_adamax_AP60-checkpoints/weights_20-0.13.hdf5\n",
            "77/77 [==============================] - 281s 3s/step - loss: 0.1641 - acc: 0.9514 - val_loss: 0.1273 - val_acc: 0.9637 - lr: 2.0000e-05\n"
          ]
        }
      ]
    },
    {
      "cell_type": "code",
      "source": [
        "# Call the 'plot_history' function that was defined before\n",
        "plot_history(history, yrange=(0,1))"
      ],
      "metadata": {
        "id": "w-weLrkKImWq"
      },
      "execution_count": null,
      "outputs": []
    },
    {
      "cell_type": "code",
      "source": [
        "# Create plot of model architecture\n",
        "tensorflow.keras.utils.plot_model(\n",
        "    full_model,\n",
        "    to_file=os.path.join('/content/drive/MyDrive/PhD/TrypanBlue/', outputdirectory, 'model_architecture.pdf'),\n",
        "    show_shapes=True,\n",
        "    show_dtype=False,\n",
        "    show_layer_names=True,\n",
        "    rankdir=\"TB\",\n",
        "    expand_nested=False,\n",
        "    dpi=300,\n",
        "    layer_range=None,\n",
        "    show_layer_activations=False,\n",
        "    show_trainable=False,\n",
        ")"
      ],
      "metadata": {
        "id": "kkn89JSNYRoY"
      },
      "execution_count": null,
      "outputs": []
    },
    {
      "cell_type": "code",
      "source": [
        "# In addition to the weights that are saved by the 'checkpoint_save' callback,\n",
        "# save the weights from the last epoch.\n",
        "# https://keras.io/api/models/model_saving_apis/\n",
        "full_model.save_weights(os.path.join('/content/drive/MyDrive/PhD/TrypanBlue/', outputdirectory, 'TrypanBlueModel_weights_lastepoch.h5'))\n"
      ],
      "metadata": {
        "id": "Oldy8rEa6PHn"
      },
      "execution_count": null,
      "outputs": []
    },
    {
      "cell_type": "code",
      "source": [
        "# Save full model\n",
        "full_model.save(os.path.join('/content/drive/MyDrive/PhD/TrypanBlue/', outputdirectory, 'TrypanBlueModel.keras'))"
      ],
      "metadata": {
        "id": "JsTpbdtKS2p-"
      },
      "execution_count": null,
      "outputs": []
    },
    {
      "cell_type": "code",
      "source": [
        "#########\n",
        "#########\n",
        "#########\n",
        "#########\n",
        "#########"
      ],
      "metadata": {
        "id": "LB9Fmj_pPZsy"
      },
      "execution_count": null,
      "outputs": []
    },
    {
      "cell_type": "code",
      "source": [
        "# MODEL TESTING"
      ],
      "metadata": {
        "id": "L104-FbcTvpx"
      },
      "execution_count": null,
      "outputs": []
    },
    {
      "cell_type": "code",
      "source": [
        "# Optionally load different weights\n",
        "weights = 'weights_20-0.13.hdf5'\n",
        "full_model.load_weights(os.path.join('/content/drive/MyDrive/PhD/TrypanBlue/', outputdirectory, weights))"
      ],
      "metadata": {
        "id": "ahhNtCcbZN5Q"
      },
      "execution_count": null,
      "outputs": []
    },
    {
      "cell_type": "code",
      "source": [
        "# Freeze all layers since we do not want to retrain the model but just evaluate it.\n",
        "for layer in full_model.layers:\n",
        "  layer.trainable = False"
      ],
      "metadata": {
        "id": "tlp00Z72JnC4"
      },
      "execution_count": null,
      "outputs": []
    },
    {
      "cell_type": "code",
      "source": [
        "#Change the working directory to the folder that contains testing images.\n",
        "testing_tile_directory = '/content/tiles_resorted_two-classes-test'\n",
        "os.chdir(testing_tile_directory)"
      ],
      "metadata": {
        "id": "g9ejmDJtUKX2"
      },
      "execution_count": null,
      "outputs": []
    },
    {
      "cell_type": "code",
      "source": [
        "# Import a few additional metrics methods from Keras.\n",
        "# These will provide further information about the quality of the trained model.\n",
        "\n",
        "from keras.metrics import Precision, Recall, TruePositives, TrueNegatives, FalsePositives, FalseNegatives, BinaryAccuracy\n",
        "#Note: When the model was being trained, BinaryAccuracy was automatically inferred by Keras when we called 'acc'.\n",
        "\n",
        "# Similiar to the 'generators' function defined before,\n",
        "# define function 'test_generator' to pre-process the input data.\n",
        "# the difference here being that there is no data augmentation steps\n",
        "# and no validation split.\n",
        "def test_generator(preprocess, validation_split=None, batch_size = 128, target_size = (224, 224)):\n",
        "\n",
        "    imgdatagen = ImageDataGenerator(\n",
        "        preprocessing_function = preprocess,\n",
        "    )\n",
        "\n",
        "    test_dataset = imgdatagen.flow_from_directory(\n",
        "        os.getcwd(),\n",
        "        #Ensure that the order of classes listed here is identical to the order\n",
        "        # that they were listed in the 'generators' function.\n",
        "        classes = ['no hyphae', 'hyphae'],\n",
        "        target_size = target_size,\n",
        "        batch_size = batch_size,\n",
        "        class_mode = \"binary\",\n",
        "        shuffle = False\n",
        "\n",
        "    )\n",
        "    return test_dataset"
      ],
      "metadata": {
        "id": "TseulEbSUQNX"
      },
      "execution_count": null,
      "outputs": []
    },
    {
      "cell_type": "code",
      "source": [
        "# Call the 'test_generator' function to create the testing data\n",
        "test_dataset = test_generator(preprocess = vgg16.preprocess_input,\n",
        "                                          validation_split = None,\n",
        "                                          batch_size = 128,\n",
        "                                          target_size = (224, 224)\n",
        "                                          )\n",
        "\n",
        "# Ensure that the numeric assignment of classes is identical to what it was during training\n",
        "test_dataset.class_indices\n"
      ],
      "metadata": {
        "id": "Amtd0ga2UXBG",
        "colab": {
          "base_uri": "https://localhost:8080/"
        },
        "outputId": "601f07ed-d183-4160-c97c-004d6f25c45b"
      },
      "execution_count": null,
      "outputs": [
        {
          "output_type": "stream",
          "name": "stdout",
          "text": [
            "Found 5239 images belonging to 2 classes.\n"
          ]
        },
        {
          "output_type": "execute_result",
          "data": {
            "text/plain": [
              "{'no hyphae': 0, 'hyphae': 1}"
            ]
          },
          "metadata": {},
          "execution_count": 39
        }
      ]
    },
    {
      "cell_type": "code",
      "source": [
        "# Compile the model for testing\n",
        "\n",
        "# This time, it will be compiled with all layers frozen,\n",
        "# so even though we call an optimizer, that optimizer is not used during testing.\n",
        "# Another difference here is that we include more metrics.\n",
        "\n",
        "full_model.compile(loss = 'binary_crossentropy', optimizer = keras.optimizers.Adamax(learning_rate = 0.001),\n",
        "                   metrics = [keras.metrics.Precision(),keras.metrics.Recall(),keras.metrics.TruePositives(),\n",
        "                              keras.metrics.TrueNegatives(),keras.metrics.FalsePositives(),keras.metrics.FalseNegatives(),\n",
        "                              keras.metrics.BinaryAccuracy(threshold = 0.5)])\n"
      ],
      "metadata": {
        "id": "bwoLSMp8UdGv"
      },
      "execution_count": null,
      "outputs": []
    },
    {
      "cell_type": "code",
      "source": [
        "# Evaluate the trained model on a set of images that the model has not seen during training.\n",
        "full_model.evaluate(test_dataset)"
      ],
      "metadata": {
        "id": "fapBzMAwUm3K",
        "colab": {
          "base_uri": "https://localhost:8080/"
        },
        "outputId": "063298f8-03ef-4094-b97e-9f367c732428"
      },
      "execution_count": null,
      "outputs": [
        {
          "output_type": "stream",
          "name": "stdout",
          "text": [
            "41/41 [==============================] - 44s 1s/step - loss: 0.1244 - precision: 0.9807 - recall: 0.9435 - true_positives: 2889.0000 - true_negatives: 2120.0000 - false_positives: 57.0000 - false_negatives: 173.0000 - binary_accuracy: 0.9561\n"
          ]
        },
        {
          "output_type": "execute_result",
          "data": {
            "text/plain": [
              "[0.12435376644134521,\n",
              " 0.9806517362594604,\n",
              " 0.9435009956359863,\n",
              " 2889.0,\n",
              " 2120.0,\n",
              " 57.0,\n",
              " 173.0,\n",
              " 0.9560984969139099]"
            ]
          },
          "metadata": {},
          "execution_count": 41
        }
      ]
    },
    {
      "cell_type": "code",
      "source": [
        "# Generate confusion matrix\n",
        "ytest = test_dataset.classes\n",
        "yhat = np.argmax((full_model.predict(test_dataset) > 0.5).astype(np.int32), axis=1)\n",
        "\n",
        "from sklearn.metrics import confusion_matrix\n",
        "\n",
        "m = confusion_matrix(ytest,yhat)\n",
        "print(m)"
      ],
      "metadata": {
        "id": "WhK0bX96G7Nl",
        "colab": {
          "base_uri": "https://localhost:8080/"
        },
        "outputId": "18fde17d-20b0-4664-acb4-8d48592eb4dd"
      },
      "execution_count": null,
      "outputs": [
        {
          "output_type": "stream",
          "name": "stdout",
          "text": [
            "41/41 [==============================] - 22s 524ms/step\n",
            "[[2177    0]\n",
            " [3062    0]]\n"
          ]
        }
      ]
    },
    {
      "cell_type": "code",
      "source": [
        "# Examine images that were classified incorrectly and plot examples of false positive and false negative images\n",
        "\n",
        "# Get predictions (as probabilities)\n",
        "predictions = full_model.predict(test_dataset)\n",
        "\n",
        "# Convert probabilities to class labels (e.g., using a threshold of 0.5)\n",
        "predicted_labels = (predictions > 0.5).astype(np.int32)\n",
        "predicted_labels = predicted_labels.reshape((len(predicted_labels),))"
      ],
      "metadata": {
        "id": "Z8lIr5yB5E5M",
        "colab": {
          "base_uri": "https://localhost:8080/"
        },
        "outputId": "bb45bfe6-95ce-435f-ffee-f3d24d59bf1b"
      },
      "execution_count": null,
      "outputs": [
        {
          "output_type": "stream",
          "name": "stdout",
          "text": [
            "41/41 [==============================] - 21s 513ms/step\n"
          ]
        }
      ]
    },
    {
      "cell_type": "code",
      "source": [
        "# Find indices of false positives and false negatives\n",
        "false_positive_idx = np.where((predicted_labels == 1) & (test_dataset.labels == 0))[0]\n",
        "false_negative_idx = np.where((predicted_labels == 0) & (test_dataset.labels == 1))[0]"
      ],
      "metadata": {
        "id": "CCTnKY2U59nk"
      },
      "execution_count": null,
      "outputs": []
    },
    {
      "cell_type": "code",
      "source": [
        "# Get filenames of false positive and false negative classified images\n",
        "filenames = np.asarray(test_dataset.filenames)\n",
        "filenames_false_pos = np.array([filenames[i] for i in false_positive_idx])\n",
        "filenames_false_neg = np.array([filenames[i] for i in false_negative_idx])"
      ],
      "metadata": {
        "id": "vRfS8yxRXLvp"
      },
      "execution_count": null,
      "outputs": []
    },
    {
      "cell_type": "code",
      "source": [
        "# Randomly select 9 images\n",
        "selected_images = np.random.choice(filenames_false_neg, size=18, replace = False)\n",
        "\n",
        "# Create a 3x3 grid of subplots\n",
        "fig, axes = plt.subplots(3, 6, figsize=(12, 6))\n",
        "\n",
        "# Plot each image on a subplot\n",
        "for i, ax in enumerate(axes.flat):\n",
        "    # Simulate loading the image (replace with your actual image loading code)\n",
        "    #image = np.random.rand(224, 224, 3)  # Replace with actual image dimensions\n",
        "    image = Image.open(selected_images[i])\n",
        "    ax.imshow(image)\n",
        "    ax.set_xticks([])\n",
        "    ax.set_yticks([])\n",
        "    #ax.set_title(selected_images[i], fontsize = 7)\n",
        "\n",
        "# Tight layout and display the plot\n",
        "plt.tight_layout()\n",
        "#plt.show()\n",
        "\n",
        "fig.savefig(os.path.join('/content/drive/MyDrive/PhD/TrypanBlue/', outputdirectory, 'false_negatives.svg'), dpi=300, pad_inches = 0, transparent = True)\n",
        "plt.close(fig)"
      ],
      "metadata": {
        "id": "lNWn-xJ1clHT"
      },
      "execution_count": null,
      "outputs": []
    },
    {
      "cell_type": "code",
      "source": [
        "# Randomly select 9 images\n",
        "selected_images = np.random.choice(filenames_false_pos, size=18, replace = False)\n",
        "\n",
        "# Create a 3x3 grid of subplots\n",
        "fig, axes = plt.subplots(3, 6, figsize=(12, 6))\n",
        "\n",
        "# Plot each image on a subplot\n",
        "for i, ax in enumerate(axes.flat):\n",
        "    # Simulate loading the image (replace with your actual image loading code)\n",
        "    #image = np.random.rand(224, 224, 3)  # Replace with actual image dimensions\n",
        "    image = Image.open(selected_images[i])\n",
        "    ax.imshow(image)\n",
        "    ax.set_xticks([])\n",
        "    ax.set_yticks([])\n",
        "    #ax.set_title(selected_images[i], fontsize = 7)\n",
        "\n",
        "# Tight layout and display the plot\n",
        "plt.tight_layout()\n",
        "#plt.show()\n",
        "\n",
        "fig.savefig(os.path.join('/content/drive/MyDrive/PhD/TrypanBlue/', outputdirectory, 'false_positives.svg'), dpi=300, pad_inches = 0, transparent = True)\n",
        "plt.close(fig)"
      ],
      "metadata": {
        "id": "V9jg_eEceimE"
      },
      "execution_count": null,
      "outputs": []
    },
    {
      "cell_type": "code",
      "source": [
        "### Try out different methods for generating attention and/or saliency maps (not sure what the difference is actually)"
      ],
      "metadata": {
        "id": "yoizbm3yadt0"
      },
      "execution_count": null,
      "outputs": []
    },
    {
      "cell_type": "code",
      "source": [
        "# Try out tf-keras-vis for generating attention and/or saliency maps (not sure what the difference is actually)\n",
        "# (https://github.com/keisen/tf-keras-vis?tab=readme-ov-file)\n",
        "!pip install tf-keras-vis tensorflow\n",
        "from tf_keras_vis.utils.scores import CategoricalScore\n",
        "from tensorflow.keras import backend as K\n",
        "from tf_keras_vis.saliency import Saliency\n",
        "from tf_keras_vis.gradcam import Gradcam\n",
        "from tf_keras_vis.gradcam_plus_plus import GradcamPlusPlus\n",
        "from tf_keras_vis.scorecam import Scorecam\n",
        "import cv2 as cv2"
      ],
      "metadata": {
        "id": "9vZlsBXNb07I",
        "colab": {
          "base_uri": "https://localhost:8080/"
        },
        "outputId": "9313fc06-146d-468e-b47f-f140053bc36c"
      },
      "execution_count": null,
      "outputs": [
        {
          "output_type": "stream",
          "name": "stdout",
          "text": [
            "Collecting tf-keras-vis\n",
            "  Downloading tf_keras_vis-0.8.7-py3-none-any.whl (52 kB)\n",
            "\u001b[?25l     \u001b[90m━━━━━━━━━━━━━━━━━━━━━━━━━━━━━━━━━━━━━━━━\u001b[0m \u001b[32m0.0/52.5 kB\u001b[0m \u001b[31m?\u001b[0m eta \u001b[36m-:--:--\u001b[0m\r\u001b[2K     \u001b[91m━━━━━━━━━━━━━━━━━━━━━━━━━━━━━━━━━━━━━━\u001b[0m\u001b[91m╸\u001b[0m\u001b[90m━\u001b[0m \u001b[32m51.2/52.5 kB\u001b[0m \u001b[31m1.3 MB/s\u001b[0m eta \u001b[36m0:00:01\u001b[0m\r\u001b[2K     \u001b[90m━━━━━━━━━━━━━━━━━━━━━━━━━━━━━━━━━━━━━━━━\u001b[0m \u001b[32m52.5/52.5 kB\u001b[0m \u001b[31m1.0 MB/s\u001b[0m eta \u001b[36m0:00:00\u001b[0m\n",
            "\u001b[?25hRequirement already satisfied: tensorflow in /usr/local/lib/python3.10/dist-packages (2.15.0)\n",
            "Requirement already satisfied: scipy in /usr/local/lib/python3.10/dist-packages (from tf-keras-vis) (1.11.4)\n",
            "Requirement already satisfied: pillow in /usr/local/lib/python3.10/dist-packages (from tf-keras-vis) (9.4.0)\n",
            "Collecting deprecated (from tf-keras-vis)\n",
            "  Downloading Deprecated-1.2.14-py2.py3-none-any.whl (9.6 kB)\n",
            "Requirement already satisfied: imageio in /usr/local/lib/python3.10/dist-packages (from tf-keras-vis) (2.31.6)\n",
            "Requirement already satisfied: packaging in /usr/local/lib/python3.10/dist-packages (from tf-keras-vis) (24.0)\n",
            "Requirement already satisfied: absl-py>=1.0.0 in /usr/local/lib/python3.10/dist-packages (from tensorflow) (1.4.0)\n",
            "Requirement already satisfied: astunparse>=1.6.0 in /usr/local/lib/python3.10/dist-packages (from tensorflow) (1.6.3)\n",
            "Requirement already satisfied: flatbuffers>=23.5.26 in /usr/local/lib/python3.10/dist-packages (from tensorflow) (24.3.25)\n",
            "Requirement already satisfied: gast!=0.5.0,!=0.5.1,!=0.5.2,>=0.2.1 in /usr/local/lib/python3.10/dist-packages (from tensorflow) (0.5.4)\n",
            "Requirement already satisfied: google-pasta>=0.1.1 in /usr/local/lib/python3.10/dist-packages (from tensorflow) (0.2.0)\n",
            "Requirement already satisfied: h5py>=2.9.0 in /usr/local/lib/python3.10/dist-packages (from tensorflow) (3.9.0)\n",
            "Requirement already satisfied: libclang>=13.0.0 in /usr/local/lib/python3.10/dist-packages (from tensorflow) (18.1.1)\n",
            "Requirement already satisfied: ml-dtypes~=0.2.0 in /usr/local/lib/python3.10/dist-packages (from tensorflow) (0.2.0)\n",
            "Requirement already satisfied: numpy<2.0.0,>=1.23.5 in /usr/local/lib/python3.10/dist-packages (from tensorflow) (1.25.2)\n",
            "Requirement already satisfied: opt-einsum>=2.3.2 in /usr/local/lib/python3.10/dist-packages (from tensorflow) (3.3.0)\n",
            "Requirement already satisfied: protobuf!=4.21.0,!=4.21.1,!=4.21.2,!=4.21.3,!=4.21.4,!=4.21.5,<5.0.0dev,>=3.20.3 in /usr/local/lib/python3.10/dist-packages (from tensorflow) (3.20.3)\n",
            "Requirement already satisfied: setuptools in /usr/local/lib/python3.10/dist-packages (from tensorflow) (67.7.2)\n",
            "Requirement already satisfied: six>=1.12.0 in /usr/local/lib/python3.10/dist-packages (from tensorflow) (1.16.0)\n",
            "Requirement already satisfied: termcolor>=1.1.0 in /usr/local/lib/python3.10/dist-packages (from tensorflow) (2.4.0)\n",
            "Requirement already satisfied: typing-extensions>=3.6.6 in /usr/local/lib/python3.10/dist-packages (from tensorflow) (4.11.0)\n",
            "Requirement already satisfied: wrapt<1.15,>=1.11.0 in /usr/local/lib/python3.10/dist-packages (from tensorflow) (1.14.1)\n",
            "Requirement already satisfied: tensorflow-io-gcs-filesystem>=0.23.1 in /usr/local/lib/python3.10/dist-packages (from tensorflow) (0.37.0)\n",
            "Requirement already satisfied: grpcio<2.0,>=1.24.3 in /usr/local/lib/python3.10/dist-packages (from tensorflow) (1.63.0)\n",
            "Requirement already satisfied: tensorboard<2.16,>=2.15 in /usr/local/lib/python3.10/dist-packages (from tensorflow) (2.15.2)\n",
            "Requirement already satisfied: tensorflow-estimator<2.16,>=2.15.0 in /usr/local/lib/python3.10/dist-packages (from tensorflow) (2.15.0)\n",
            "Requirement already satisfied: keras<2.16,>=2.15.0 in /usr/local/lib/python3.10/dist-packages (from tensorflow) (2.15.0)\n",
            "Requirement already satisfied: wheel<1.0,>=0.23.0 in /usr/local/lib/python3.10/dist-packages (from astunparse>=1.6.0->tensorflow) (0.43.0)\n",
            "Requirement already satisfied: google-auth<3,>=1.6.3 in /usr/local/lib/python3.10/dist-packages (from tensorboard<2.16,>=2.15->tensorflow) (2.27.0)\n",
            "Requirement already satisfied: google-auth-oauthlib<2,>=0.5 in /usr/local/lib/python3.10/dist-packages (from tensorboard<2.16,>=2.15->tensorflow) (1.2.0)\n",
            "Requirement already satisfied: markdown>=2.6.8 in /usr/local/lib/python3.10/dist-packages (from tensorboard<2.16,>=2.15->tensorflow) (3.6)\n",
            "Requirement already satisfied: requests<3,>=2.21.0 in /usr/local/lib/python3.10/dist-packages (from tensorboard<2.16,>=2.15->tensorflow) (2.31.0)\n",
            "Requirement already satisfied: tensorboard-data-server<0.8.0,>=0.7.0 in /usr/local/lib/python3.10/dist-packages (from tensorboard<2.16,>=2.15->tensorflow) (0.7.2)\n",
            "Requirement already satisfied: werkzeug>=1.0.1 in /usr/local/lib/python3.10/dist-packages (from tensorboard<2.16,>=2.15->tensorflow) (3.0.3)\n",
            "Requirement already satisfied: cachetools<6.0,>=2.0.0 in /usr/local/lib/python3.10/dist-packages (from google-auth<3,>=1.6.3->tensorboard<2.16,>=2.15->tensorflow) (5.3.3)\n",
            "Requirement already satisfied: pyasn1-modules>=0.2.1 in /usr/local/lib/python3.10/dist-packages (from google-auth<3,>=1.6.3->tensorboard<2.16,>=2.15->tensorflow) (0.4.0)\n",
            "Requirement already satisfied: rsa<5,>=3.1.4 in /usr/local/lib/python3.10/dist-packages (from google-auth<3,>=1.6.3->tensorboard<2.16,>=2.15->tensorflow) (4.9)\n",
            "Requirement already satisfied: requests-oauthlib>=0.7.0 in /usr/local/lib/python3.10/dist-packages (from google-auth-oauthlib<2,>=0.5->tensorboard<2.16,>=2.15->tensorflow) (1.3.1)\n",
            "Requirement already satisfied: charset-normalizer<4,>=2 in /usr/local/lib/python3.10/dist-packages (from requests<3,>=2.21.0->tensorboard<2.16,>=2.15->tensorflow) (3.3.2)\n",
            "Requirement already satisfied: idna<4,>=2.5 in /usr/local/lib/python3.10/dist-packages (from requests<3,>=2.21.0->tensorboard<2.16,>=2.15->tensorflow) (3.7)\n",
            "Requirement already satisfied: urllib3<3,>=1.21.1 in /usr/local/lib/python3.10/dist-packages (from requests<3,>=2.21.0->tensorboard<2.16,>=2.15->tensorflow) (2.0.7)\n",
            "Requirement already satisfied: certifi>=2017.4.17 in /usr/local/lib/python3.10/dist-packages (from requests<3,>=2.21.0->tensorboard<2.16,>=2.15->tensorflow) (2024.2.2)\n",
            "Requirement already satisfied: MarkupSafe>=2.1.1 in /usr/local/lib/python3.10/dist-packages (from werkzeug>=1.0.1->tensorboard<2.16,>=2.15->tensorflow) (2.1.5)\n",
            "Requirement already satisfied: pyasn1<0.7.0,>=0.4.6 in /usr/local/lib/python3.10/dist-packages (from pyasn1-modules>=0.2.1->google-auth<3,>=1.6.3->tensorboard<2.16,>=2.15->tensorflow) (0.6.0)\n",
            "Requirement already satisfied: oauthlib>=3.0.0 in /usr/local/lib/python3.10/dist-packages (from requests-oauthlib>=0.7.0->google-auth-oauthlib<2,>=0.5->tensorboard<2.16,>=2.15->tensorflow) (3.2.2)\n",
            "Installing collected packages: deprecated, tf-keras-vis\n",
            "Successfully installed deprecated-1.2.14 tf-keras-vis-0.8.7\n"
          ]
        }
      ]
    },
    {
      "cell_type": "code",
      "source": [
        "# Initialize linear model by removing the sigmoid activation layer (last layer)\n",
        "model = keras.models.Model(inputs=full_model.input, outputs=full_model.layers[-2].output) #https://stackoverflow.com/questions/63107141/how-to-compute-saliency-map-using-keras-backend"
      ],
      "metadata": {
        "id": "Dxapyxc1b-vU"
      },
      "execution_count": null,
      "outputs": []
    },
    {
      "cell_type": "code",
      "source": [
        "# Define category score for class to calculate saliency maps for\n",
        "# In our case, binary classification, it is just 0 since we only have one class (hyphae)\n",
        "score = CategoricalScore([0])\n",
        "\n",
        "# Define path to images to test\n",
        "path = '/content/tiles_resorted_two-classes-test/hyphae'"
      ],
      "metadata": {
        "id": "BeeawCMWb-hr"
      },
      "execution_count": null,
      "outputs": []
    },
    {
      "cell_type": "code",
      "source": [
        "# Load random image, e.g. from test images\n",
        "img_file = random.sample(os.listdir(path), 1)[0]\n",
        "img_path = os.path.join(path, img_file)\n",
        "raw_img = Image.open(img_path)\n",
        "# Resize image and convert to array\n",
        "img = raw_img.resize((224, 224))\n",
        "img = np.array(img)\n",
        "# Apply vgg16 preprocess function\n",
        "img = vgg16.preprocess_input(img)\n",
        "\n",
        "\n",
        "# Calculate different maps\n",
        "\n",
        "# 1 Vanilla saliency\n",
        "# Create Saliency object.\n",
        "saliency = Saliency(model,\n",
        "                    clone=True)\n",
        "\n",
        "# Generate vanilla saliency map\n",
        "saliency_map = saliency(score, img)\n",
        "\n",
        "# 2 SmoothGrad\n",
        "# Generate SmoothGrad saliency map with smoothing that reduce noise by adding noise\n",
        "saliency_map1 = saliency(score,\n",
        "                        img,\n",
        "                        smooth_samples=40, # The number of calculating gradients iterations.\n",
        "                        smooth_noise=0.10) # noise spread level.\n",
        "\n",
        "# 3 GradCAM\n",
        "# Create Gradcam object\n",
        "gradcam = Gradcam(model,\n",
        "                  clone=True)\n",
        "\n",
        "# Generate heatmap with GradCAM\n",
        "cam1 = gradcam(score,\n",
        "               img,\n",
        "               penultimate_layer=-1)\n",
        "\n",
        "# 4 GradCAM ++\n",
        "# Create GradCAM++ object\n",
        "gradcamplus = GradcamPlusPlus(model,\n",
        "                          clone=True)\n",
        "\n",
        "# Generate heatmap with GradCAM++\n",
        "cam2 = gradcamplus(score,\n",
        "              img,\n",
        "              penultimate_layer=-1)\n",
        "\n",
        "# # 5 ScoreCAM (for now disabled because it is quite slow and does not seem to be much better than the other options)\n",
        "# Create ScoreCAM object\n",
        "scorecam = Scorecam(model)\n",
        "\n",
        "# Generate heatmap with ScoreCAM\n",
        "cam3 = scorecam(score, img, penultimate_layer=-1, max_N=10)\n",
        "\n"
      ],
      "metadata": {
        "id": "gzjuTebicsnp",
        "colab": {
          "base_uri": "https://localhost:8080/"
        },
        "outputId": "d189b52e-82e6-4ab7-9928-c572cc3fe24e"
      },
      "execution_count": null,
      "outputs": [
        {
          "output_type": "stream",
          "name": "stdout",
          "text": [
            "1/1 [==============================] - 3s 3s/step\n"
          ]
        }
      ]
    },
    {
      "cell_type": "code",
      "source": [
        "# Render\n",
        "fig, (ax1, ax2, ax3, ax4, ax5, ax6) = plt.subplots(1, 6)\n",
        "ax1.imshow(raw_img)\n",
        "ax1.axis('off')\n",
        "\n",
        "ax2.imshow(saliency_map[0,:,:], cmap = \"rainbow\")\n",
        "ax2.axis('off')\n",
        "\n",
        "ax3.imshow(saliency_map1[0,:,:], cmap = \"rainbow\")\n",
        "ax3.axis('off')\n",
        "\n",
        "ax4.imshow(cam1[0,:,:], cmap = \"rainbow\")\n",
        "ax4.axis('off')\n",
        "\n",
        "ax5.imshow(cam2[0,:,:], cmap = \"rainbow\")\n",
        "ax5.axis('off')\n",
        "\n",
        "ax6.imshow(cam3[0,:,:], cmap = \"rainbow\")\n",
        "ax6.axis('off')\n",
        "\n",
        "ax1.set_title('Image', size = 8)\n",
        "ax2.set_title('Vanilla saliency', size = 8)\n",
        "ax3.set_title('SmoothGrad', size = 8)\n",
        "ax4.set_title('GradCAM', size = 8)\n",
        "ax5.set_title('GradCAM++', size = 8)\n",
        "ax6.set_title('ScoreCAM', size = 8)\n",
        "\n",
        "plt.savefig(os.path.join('/content/drive/MyDrive/PhD/TrypanBlue/', outputdirectory, re.sub('.jpg', '_saliencies.svg', img_file)), dpi=300, pad_inches = 0, transparent = True)"
      ],
      "metadata": {
        "id": "g6JBnwLIEXqu",
        "colab": {
          "base_uri": "https://localhost:8080/",
          "height": 124
        },
        "outputId": "e6e54ab9-d2ce-4c92-a17a-60f1442bad9b"
      },
      "execution_count": null,
      "outputs": [
        {
          "output_type": "display_data",
          "data": {
            "text/plain": [
              "<Figure size 640x480 with 6 Axes>"
            ],
            "image/png": "[encoded data removed]"
          },
          "metadata": {}
        }
      ]
    },
    {
      "cell_type": "code",
      "source": [
        "sal_img = saliency_map1[0,:,:]\n",
        "sal_img = sal_img * 255\n",
        "sal_img = sal_img.astype(np.uint8)\n",
        "# sal_img.shape\n",
        "# sal_img_thresh = np.copy(sal_img)\n",
        "# sal_img_thresh[sal_img_thresh < 30] = 0\n",
        "# plt.imshow(sal_img_thresh, cmap = 'viridis')\n",
        "# plt.colorbar()\n",
        "\n",
        "img_blur = cv2.GaussianBlur(sal_img, (3,3), cv2.BORDER_DEFAULT)\n",
        "ret,img1 = cv2.threshold(img_blur,0,255, cv2.THRESH_OTSU)\n",
        "#ret,img1 = cv2.threshold(img_blur, 35, 255, cv2.THRESH_BINARY)\n",
        "#ret,img1 = cv2.threshold(img,0,255, cv2.THRESH_OTSU)\n",
        "img2 = cv2.dilate(img1, (5,5), iterations = 10)\n",
        "#img2 = cv2.erode(img1, (5,5), iterations = 20)\n",
        "\n",
        "# Skeletonization from (https://opencvpython.blogspot.com/2012/05/skeletonization-using-opencv-python.html)\n",
        "\n",
        "img = img2\n",
        "size = np.size(img)\n",
        "skel = np.zeros(img.shape,np.uint8)\n",
        "\n",
        "element = cv2.getStructuringElement(cv2.MORPH_CROSS,(3,3))\n",
        "done = False\n",
        "\n",
        "while(not done):\n",
        "    eroded = cv2.erode(img,element)\n",
        "    temp = cv2.dilate(eroded,element)\n",
        "    temp = cv2.subtract(img,temp)\n",
        "    skel = cv2.bitwise_or(skel,temp)\n",
        "    img = eroded.copy()\n",
        "\n",
        "    zeros = size - cv2.countNonZero(img)\n",
        "    if zeros==size:\n",
        "        done = True\n",
        "\n",
        "fig, (ax1, ax2, ax3, ax4, ax5, ax6) = plt.subplots(1, 6)\n",
        "ax1.imshow(raw_img)\n",
        "ax1.axis('off')\n",
        "\n",
        "ax2.imshow(sal_img)\n",
        "ax2.axis('off')\n",
        "\n",
        "ax3.imshow(img_blur)\n",
        "ax3.axis('off')\n",
        "\n",
        "ax4.imshow(img1)\n",
        "ax4.axis('off')\n",
        "\n",
        "ax5.imshow(img2)\n",
        "ax5.axis('off')\n",
        "\n",
        "ax6.imshow(skel)\n",
        "ax6.axis('off')\n",
        "\n",
        "\n",
        "plt.savefig(os.path.join('/content/drive/MyDrive/PhD/TrypanBlue/', outputdirectory, re.sub('.jpg', '_skeletonization.svg', img_file)), dpi=300, pad_inches = 0, transparent = True)"
      ],
      "metadata": {
        "id": "kl21Rc3fD27N",
        "colab": {
          "base_uri": "https://localhost:8080/",
          "height": 107
        },
        "outputId": "1fac9836-21f2-4370-d6b6-94bda5fd0886"
      },
      "execution_count": null,
      "outputs": [
        {
          "output_type": "display_data",
          "data": {
            "text/plain": [
              "<Figure size 640x480 with 6 Axes>"
            ],
            "image/png": "[encoded data removed]"
          },
          "metadata": {}
        }
      ]
    }
  ]
}