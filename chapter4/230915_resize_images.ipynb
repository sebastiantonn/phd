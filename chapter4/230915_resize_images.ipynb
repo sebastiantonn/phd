{
  "nbformat": 4,
  "nbformat_minor": 0,
  "metadata": {
    "colab": {
      "provenance": [],
      "mount_file_id": "1QrRZ_uJql0FnClAv9eYMHw1TLWPKvbFU",
      "authorship_tag": "ABX9TyP0CgoOs8oV/D0FmyOfVUTJ",
      "include_colab_link": true
    },
    "kernelspec": {
      "name": "python3",
      "display_name": "Python 3"
    },
    "language_info": {
      "name": "python"
    }
  },
  "cells": [
    {
      "cell_type": "markdown",
      "metadata": {
        "id": "view-in-github",
        "colab_type": "text"
      },
      "source": [
        "<a href=\"https://colab.research.google.com/github/sebastiantonn/phd/blob/main/chapter4/230915_resize_images.ipynb\" target=\"_parent\"><img src=\"https://colab.research.google.com/assets/colab-badge.svg\" alt=\"Open In Colab\"/></a>"
      ]
    },
    {
      "cell_type": "code",
      "execution_count": null,
      "metadata": {
        "id": "vKJLDQjDen9D"
      },
      "outputs": [],
      "source": [
        "# Script for resizing images\n",
        "# Author: Sebastian Tonn (based on script by Mon-Ray Shao)\n",
        "# 16-09-2023\n",
        "# Script to crop and resize images to fit the requirements to be used as input for CNN with UNET architecture."
      ]
    },
    {
      "cell_type": "code",
      "source": [
        "# Load libraries\n",
        "from PIL import Image\n",
        "import os\n",
        "import re"
      ],
      "metadata": {
        "id": "5aPzDkNFfSJS"
      },
      "execution_count": null,
      "outputs": []
    },
    {
      "cell_type": "code",
      "source": [
        "# Define directories to images to be resized (input) and to save the resized images (output)\n",
        "path = '/content/drive/MyDrive/PhD/UV-BGF/230627_unet-test_individual-leaves/batch4_individualleaves/'\n",
        "\n",
        "output = '/content/drive/MyDrive/PhD/UV-BGF/230627_unet-test_individual-leaves/batch4_individualleaves_downsampled/'\n",
        "\n",
        "if not os.path.isdir(output):\n",
        "    os.mkdir(output)\n",
        "\n",
        "dirs = os.listdir(path)\n",
        "\n"
      ],
      "metadata": {
        "id": "CVuZm1gZfGYR"
      },
      "execution_count": null,
      "outputs": []
    },
    {
      "cell_type": "code",
      "source": [
        "# Define function for cropping and resizing images\n",
        "# NOTE: In previous versions we used \"Image.Resampling.LANCZOS\", now I changed that to \".NEAREST\"\n",
        "def resize(pixels_to_crop, size):\n",
        "    for item in dirs:\n",
        "        if os.path.isfile(path+item) and '.png' in item and not item.startswith('.'):\n",
        "          im = Image.open(path+item)\n",
        "          # Based on which leaf the image contains we crop at the left side, at both sides or at the right side of the images.\n",
        "          if 'leaf1' in item:\n",
        "            imCrop = im.crop((0, 0, 1440 - pixels_to_crop, 1080))\n",
        "          if 'leaf2' in item:\n",
        "            imCrop = im.crop((pixels_to_crop/2, 0, 1440 - pixels_to_crop/2, 1080))\n",
        "          if 'leaf3' in item:\n",
        "            imCrop = im.crop((pixels_to_crop, 0, 1440, 1080))\n",
        "          imResize = imCrop.resize((size,size), Image.NEAREST)   # depending on the PIL.Image version it has to be Image.NEAREST (works in version 8.4.0) or Image.Resampling.NEAREST (worked before, not sure which version)\n",
        "          imResize.save(output  + re.sub('.png', '_resized.png', item), 'PNG')"
      ],
      "metadata": {
        "id": "qE302-SQfIoD"
      },
      "execution_count": null,
      "outputs": []
    },
    {
      "cell_type": "code",
      "source": [
        "# Define width of area to be cropped at the sides (images are e.g. 1440 x 1080 pixels, so we would crop 360 pixels to get 1080 x 1080).\n",
        "crop_width = 360\n",
        "# Define image size to resize images to\n",
        "size = 480\n"
      ],
      "metadata": {
        "id": "qh23-FjAf335"
      },
      "execution_count": null,
      "outputs": []
    },
    {
      "cell_type": "code",
      "source": [
        "resize(pixels_to_crop=crop_width, size=size)"
      ],
      "metadata": {
        "id": "TNdtFaqEfGOg"
      },
      "execution_count": null,
      "outputs": []
    },
    {
      "cell_type": "code",
      "source": [],
      "metadata": {
        "id": "0f6JvYqL8UxE"
      },
      "execution_count": null,
      "outputs": []
    },
    {
      "cell_type": "markdown",
      "source": [],
      "metadata": {
        "id": "0sPryoWzfCQK"
      }
    }
  ]
}