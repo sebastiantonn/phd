{
  "cells": [
    {
      "cell_type": "markdown",
      "metadata": {
        "id": "view-in-github",
        "colab_type": "text"
      },
      "source": [
        "<a href=\"https://colab.research.google.com/github/sebastiantonn/phd/blob/main/chapter4/combine_labels.ipynb\" target=\"_parent\"><img src=\"https://colab.research.google.com/assets/colab-badge.svg\" alt=\"Open In Colab\"/></a>"
      ]
    },
    {
      "cell_type": "code",
      "source": [
        "# Authors: Sebastian Tonn and Mon-Ray Shao\n",
        "# Translational Plant Biology Group, Utrecht University\n",
        "\n",
        "\n",
        "# Script to combine leaf mask and (manually drawn) BGF mask to a three-label image with background pixels = 0,\n",
        "# red fluorescent leaf pixels and vein pixels = 1 and blue-green fluorescent leaf pixels = 2."
      ],
      "metadata": {
        "id": "O5rde7iXcY8J"
      },
      "execution_count": null,
      "outputs": []
    },
    {
      "cell_type": "code",
      "execution_count": null,
      "metadata": {
        "id": "tJzRgBm1c5md"
      },
      "outputs": [],
      "source": [
        "# Load packages\n",
        "import os\n",
        "import re\n",
        "from PIL import Image\n",
        "import numpy as np\n",
        "import cv2 as cv2\n",
        "\n",
        "\n",
        "# Define batch and date\n",
        "batch = 'batch4'\n",
        "date = '20220202'\n",
        "\n",
        "# Define directories.\n",
        "\n",
        "# Directory that contains single leaf masks\n",
        "leafmaskdir = '/content/drive/MyDrive/PhD/UV-BGF/230627_unet-test_individual-leaves/singleleaf_leafmasks_allbatches'\n",
        "# Directory that contains single leaf labels\n",
        "labeldir = '/content/drive/MyDrive/PhD/UV-BGF/230627_unet-test_individual-leaves/singleleaf_labels_allbatches'\n",
        "# Directory where combined 3-label images should be saved\n",
        "outdir = '/content/drive/MyDrive/PhD/UV-BGF/230627_unet-test_individual-leaves/singleleaf_3labels_allbatches'\n",
        "\n",
        "if not os.path.isdir(outdir):\n",
        "    os.mkdir(outdir)\n",
        "\n"
      ]
    },
    {
      "cell_type": "code",
      "execution_count": null,
      "metadata": {
        "colab": {
          "background_save": true
        },
        "id": "hviZ1UI3ezhG"
      },
      "outputs": [],
      "source": [
        "# For loop to combine each leaf and BGF mask (which have the same filename) one by one\n",
        "for filename in os.listdir(leafmaskdir):\n",
        "\n",
        "    leafmaskimg = np.array(cv2.imread(os.path.join(leafmaskdir, filename), 0)) / 255 # set the leaf pixels from 255 to 1\n",
        "\n",
        "    labelimg = np.array(cv2.imread(os.path.join(labeldir, filename), 0))\n",
        "\n",
        "    leafmaskimg[labelimg == 1] = 2 # Set BGF pixels in the leaf mask image to 2\n",
        "\n",
        "    leafmaskimg = leafmaskimg.astype('uint8')\n",
        "\n",
        "    leafmaskimg = Image.fromarray(leafmaskimg)\n",
        "\n",
        "    #leafmaskimg.convert(\"L\")\n",
        "\n",
        "    leafmaskimg.save(os.path.join(outdir, filename))\n"
      ]
    }
  ],
  "metadata": {
    "colab": {
      "provenance": [],
      "mount_file_id": "1W8qzl0QwB0hQqHCjKaKTUDfDDori0mMy",
      "authorship_tag": "ABX9TyPn09MloiQpOvdry53H6ZdI",
      "include_colab_link": true
    },
    "kernelspec": {
      "display_name": "Python 3",
      "name": "python3"
    },
    "language_info": {
      "name": "python"
    }
  },
  "nbformat": 4,
  "nbformat_minor": 0
}