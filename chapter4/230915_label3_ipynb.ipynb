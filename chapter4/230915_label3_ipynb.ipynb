{
  "cells": [
    {
      "cell_type": "markdown",
      "metadata": {
        "id": "view-in-github",
        "colab_type": "text"
      },
      "source": [
        "<a href=\"https://colab.research.google.com/github/sebastiantonn/phd/blob/main/chapter4/230915_label3_ipynb.ipynb\" target=\"_parent\"><img src=\"https://colab.research.google.com/assets/colab-badge.svg\" alt=\"Open In Colab\"/></a>"
      ]
    },
    {
      "cell_type": "code",
      "execution_count": null,
      "metadata": {
        "id": "tJzRgBm1c5md"
      },
      "outputs": [],
      "source": [
        "\n",
        "import os\n",
        "import re\n",
        "from PIL import Image\n",
        "import numpy as np\n",
        "import cv2 as cv2\n",
        "\n",
        "\n",
        "# Define batch and date\n",
        "batch = 'batch4'\n",
        "date = '20220202'\n",
        "\n",
        "# Define directories.\n",
        "\n",
        "# Directory that contains single leaf masks\n",
        "leafmaskdir = '/content/drive/MyDrive/PhD/UV-BGF/230627_unet-test_individual-leaves/singleleaf_leafmasks_allbatches'\n",
        "# Directory that contains single leaf labels\n",
        "labeldir = '/content/drive/MyDrive/PhD/UV-BGF/230627_unet-test_individual-leaves/singleleaf_labels_allbatches'\n",
        "# Directory that contains processed images whose raw version should be copied\n",
        "outdir = '/content/drive/MyDrive/PhD/UV-BGF/230627_unet-test_individual-leaves/singleleaf_3labels_allbatches'\n",
        "\n",
        "if not os.path.isdir(outdir):\n",
        "    os.mkdir(outdir)\n",
        "\n"
      ]
    },
    {
      "cell_type": "code",
      "execution_count": null,
      "metadata": {
        "colab": {
          "background_save": true
        },
        "id": "hviZ1UI3ezhG"
      },
      "outputs": [],
      "source": [
        "\n",
        "for filename in os.listdir(leafmaskdir):\n",
        "\n",
        "    leafmaskimg = np.array(cv2.imread(os.path.join(leafmaskdir, filename), 0)) / 255\n",
        "\n",
        "    labelimg = np.array(cv2.imread(os.path.join(labeldir, filename), 0))\n",
        "\n",
        "    leafmaskimg[labelimg == 1] = 2\n",
        "\n",
        "    leafmaskimg = leafmaskimg.astype('uint8')\n",
        "\n",
        "    leafmaskimg = Image.fromarray(leafmaskimg)\n",
        "\n",
        "    #leafmaskimg.convert(\"L\")\n",
        "\n",
        "    leafmaskimg.save(os.path.join(outdir, filename))\n"
      ]
    }
  ],
  "metadata": {
    "colab": {
      "provenance": [],
      "mount_file_id": "1W8qzl0QwB0hQqHCjKaKTUDfDDori0mMy",
      "authorship_tag": "ABX9TyMm0/HrVCvVQBpPE7ADt66R",
      "include_colab_link": true
    },
    "kernelspec": {
      "display_name": "Python 3",
      "name": "python3"
    },
    "language_info": {
      "name": "python"
    }
  },
  "nbformat": 4,
  "nbformat_minor": 0
}